{
  "nbformat": 4,
  "nbformat_minor": 0,
  "metadata": {
    "colab": {
      "provenance": [],
      "collapsed_sections": []
    },
    "kernelspec": {
      "name": "python3",
      "display_name": "Python 3"
    },
    "language_info": {
      "name": "python"
    }
  },
  "cells": [
    {
      "cell_type": "markdown",
      "source": [
        "##Reading Dataset from kaggle"
      ],
      "metadata": {
        "id": "4-hzaAsSvUT9"
      }
    },
    {
      "cell_type": "code",
      "execution_count": 1,
      "metadata": {
        "colab": {
          "base_uri": "https://localhost:8080/"
        },
        "id": "173YGbwDkeAK",
        "outputId": "b8298672-2bf7-4490-9409-5bf82a9b8f9d"
      },
      "outputs": [
        {
          "output_type": "stream",
          "name": "stdout",
          "text": [
            "Looking in indexes: https://pypi.org/simple, https://us-python.pkg.dev/colab-wheels/public/simple/\n",
            "Requirement already satisfied: kaggle in /usr/local/lib/python3.7/dist-packages (1.5.12)\n",
            "Requirement already satisfied: urllib3 in /usr/local/lib/python3.7/dist-packages (from kaggle) (1.24.3)\n",
            "Requirement already satisfied: python-dateutil in /usr/local/lib/python3.7/dist-packages (from kaggle) (2.8.2)\n",
            "Requirement already satisfied: python-slugify in /usr/local/lib/python3.7/dist-packages (from kaggle) (6.1.2)\n",
            "Requirement already satisfied: requests in /usr/local/lib/python3.7/dist-packages (from kaggle) (2.23.0)\n",
            "Requirement already satisfied: tqdm in /usr/local/lib/python3.7/dist-packages (from kaggle) (4.64.1)\n",
            "Requirement already satisfied: six>=1.10 in /usr/local/lib/python3.7/dist-packages (from kaggle) (1.15.0)\n",
            "Requirement already satisfied: certifi in /usr/local/lib/python3.7/dist-packages (from kaggle) (2022.9.24)\n",
            "Requirement already satisfied: text-unidecode>=1.3 in /usr/local/lib/python3.7/dist-packages (from python-slugify->kaggle) (1.3)\n",
            "Requirement already satisfied: idna<3,>=2.5 in /usr/local/lib/python3.7/dist-packages (from requests->kaggle) (2.10)\n",
            "Requirement already satisfied: chardet<4,>=3.0.2 in /usr/local/lib/python3.7/dist-packages (from requests->kaggle) (3.0.4)\n"
          ]
        }
      ],
      "source": [
        "!pip install kaggle"
      ]
    },
    {
      "cell_type": "code",
      "source": [
        "!mkdir ~/.kaggle\n",
        "!touch ~/.kaggle/kaggle.json\n",
        "\n",
        "api_token = {\"username\":\"xxxxx\",\"key\":\"xx\"}\n",
        "\n",
        "import json\n",
        "\n",
        "with open('/root/.kaggle/kaggle.json', 'w') as file:\n",
        "    json.dump(api_token, file)\n",
        "!chmod 600 ~/.kaggle/kaggle.json"
      ],
      "metadata": {
        "colab": {
          "base_uri": "https://localhost:8080/"
        },
        "id": "IUAddoLstisQ",
        "outputId": "75322e14-f593-4b47-f15d-1ed11ee9234d"
      },
      "execution_count": 2,
      "outputs": [
        {
          "output_type": "stream",
          "name": "stdout",
          "text": [
            "mkdir: cannot create directory ‘/root/.kaggle’: File exists\n"
          ]
        }
      ]
    },
    {
      "cell_type": "code",
      "source": [
        "!kaggle datasets download -d sohier/calcofi"
      ],
      "metadata": {
        "colab": {
          "base_uri": "https://localhost:8080/"
        },
        "id": "VrDF4nj5toek",
        "outputId": "a283f63a-846e-4997-a8b4-77a6bb0cf028"
      },
      "execution_count": 3,
      "outputs": [
        {
          "output_type": "stream",
          "name": "stdout",
          "text": [
            "calcofi.zip: Skipping, found more recently modified local copy (use --force to force download)\n"
          ]
        }
      ]
    },
    {
      "cell_type": "code",
      "source": [
        "!unzip calcofi.zip"
      ],
      "metadata": {
        "colab": {
          "base_uri": "https://localhost:8080/"
        },
        "id": "yaV23Lxetq27",
        "outputId": "70640561-7a8d-442b-f56e-bf84ef6079c1"
      },
      "execution_count": 7,
      "outputs": [
        {
          "output_type": "stream",
          "name": "stdout",
          "text": [
            "Archive:  calcofi.zip\n",
            "replace bottle.csv? [y]es, [n]o, [A]ll, [N]one, [r]ename: N\n"
          ]
        }
      ]
    },
    {
      "cell_type": "code",
      "source": [
        "import pandas as pd\n",
        "import numpy as np\n",
        "import json\n",
        "\n",
        "import numpy as np\n",
        "import seaborn as sns\n",
        "import matplotlib.pyplot as plt\n",
        "from sklearn.model_selection import train_test_split\n",
        "from sklearn.pipeline import Pipeline\n",
        "from sklearn.ensemble import GradientBoostingRegressor\n",
        "from sklearn.svm import SVR\n",
        "from sklearn.linear_model import LinearRegression\n",
        "from xgboost.sklearn import XGBRegressor\n",
        "from sklearn.preprocessing import StandardScaler\n",
        "from sklearn.ensemble import RandomForestRegressor\n",
        "from sklearn.linear_model import Ridge, Lasso, ElasticNet\n",
        "from sklearn.base import BaseEstimator, TransformerMixin\n",
        "from sklearn.metrics import r2_score, mean_absolute_error"
      ],
      "metadata": {
        "id": "Q6gN1ruTk3-f"
      },
      "execution_count": 5,
      "outputs": []
    },
    {
      "cell_type": "code",
      "source": [
        "bottle = pd.read_csv('bottle.csv')"
      ],
      "metadata": {
        "colab": {
          "base_uri": "https://localhost:8080/"
        },
        "id": "U59GWFxjk_xl",
        "outputId": "b8cf77af-6e19-439a-c30a-de463d8412a7"
      },
      "execution_count": 6,
      "outputs": [
        {
          "output_type": "stream",
          "name": "stderr",
          "text": [
            "/usr/local/lib/python3.7/dist-packages/IPython/core/interactiveshell.py:3326: DtypeWarning: Columns (47,73) have mixed types.Specify dtype option on import or set low_memory=False.\n",
            "  exec(code_obj, self.user_global_ns, self.user_ns)\n"
          ]
        }
      ]
    },
    {
      "cell_type": "code",
      "source": [
        "bottle.head()"
      ],
      "metadata": {
        "colab": {
          "base_uri": "https://localhost:8080/",
          "height": 768
        },
        "id": "uLa2_qzylC2D",
        "outputId": "34afbdf8-51ad-4adf-ebe0-531431c00ade"
      },
      "execution_count": 8,
      "outputs": [
        {
          "output_type": "execute_result",
          "data": {
            "text/plain": [
              "   Cst_Cnt  Btl_Cnt       Sta_ID                                Depth_ID  \\\n",
              "0        1        1  054.0 056.0  19-4903CR-HY-060-0930-05400560-0000A-3   \n",
              "1        1        2  054.0 056.0  19-4903CR-HY-060-0930-05400560-0008A-3   \n",
              "2        1        3  054.0 056.0  19-4903CR-HY-060-0930-05400560-0010A-7   \n",
              "3        1        4  054.0 056.0  19-4903CR-HY-060-0930-05400560-0019A-3   \n",
              "4        1        5  054.0 056.0  19-4903CR-HY-060-0930-05400560-0020A-7   \n",
              "\n",
              "   Depthm  T_degC  Salnty  O2ml_L  STheta  O2Sat  ...  R_PHAEO  R_PRES  \\\n",
              "0       0   10.50  33.440     NaN  25.649    NaN  ...      NaN       0   \n",
              "1       8   10.46  33.440     NaN  25.656    NaN  ...      NaN       8   \n",
              "2      10   10.46  33.437     NaN  25.654    NaN  ...      NaN      10   \n",
              "3      19   10.45  33.420     NaN  25.643    NaN  ...      NaN      19   \n",
              "4      20   10.45  33.421     NaN  25.643    NaN  ...      NaN      20   \n",
              "\n",
              "   R_SAMP  DIC1  DIC2  TA1  TA2  pH2  pH1  DIC Quality Comment  \n",
              "0     NaN   NaN   NaN  NaN  NaN  NaN  NaN                  NaN  \n",
              "1     NaN   NaN   NaN  NaN  NaN  NaN  NaN                  NaN  \n",
              "2     NaN   NaN   NaN  NaN  NaN  NaN  NaN                  NaN  \n",
              "3     NaN   NaN   NaN  NaN  NaN  NaN  NaN                  NaN  \n",
              "4     NaN   NaN   NaN  NaN  NaN  NaN  NaN                  NaN  \n",
              "\n",
              "[5 rows x 74 columns]"
            ],
            "text/html": [
              "\n",
              "  <div id=\"df-78cf5911-3f88-459d-b974-fa44191a2ee0\">\n",
              "    <div class=\"colab-df-container\">\n",
              "      <div>\n",
              "<style scoped>\n",
              "    .dataframe tbody tr th:only-of-type {\n",
              "        vertical-align: middle;\n",
              "    }\n",
              "\n",
              "    .dataframe tbody tr th {\n",
              "        vertical-align: top;\n",
              "    }\n",
              "\n",
              "    .dataframe thead th {\n",
              "        text-align: right;\n",
              "    }\n",
              "</style>\n",
              "<table border=\"1\" class=\"dataframe\">\n",
              "  <thead>\n",
              "    <tr style=\"text-align: right;\">\n",
              "      <th></th>\n",
              "      <th>Cst_Cnt</th>\n",
              "      <th>Btl_Cnt</th>\n",
              "      <th>Sta_ID</th>\n",
              "      <th>Depth_ID</th>\n",
              "      <th>Depthm</th>\n",
              "      <th>T_degC</th>\n",
              "      <th>Salnty</th>\n",
              "      <th>O2ml_L</th>\n",
              "      <th>STheta</th>\n",
              "      <th>O2Sat</th>\n",
              "      <th>...</th>\n",
              "      <th>R_PHAEO</th>\n",
              "      <th>R_PRES</th>\n",
              "      <th>R_SAMP</th>\n",
              "      <th>DIC1</th>\n",
              "      <th>DIC2</th>\n",
              "      <th>TA1</th>\n",
              "      <th>TA2</th>\n",
              "      <th>pH2</th>\n",
              "      <th>pH1</th>\n",
              "      <th>DIC Quality Comment</th>\n",
              "    </tr>\n",
              "  </thead>\n",
              "  <tbody>\n",
              "    <tr>\n",
              "      <th>0</th>\n",
              "      <td>1</td>\n",
              "      <td>1</td>\n",
              "      <td>054.0 056.0</td>\n",
              "      <td>19-4903CR-HY-060-0930-05400560-0000A-3</td>\n",
              "      <td>0</td>\n",
              "      <td>10.50</td>\n",
              "      <td>33.440</td>\n",
              "      <td>NaN</td>\n",
              "      <td>25.649</td>\n",
              "      <td>NaN</td>\n",
              "      <td>...</td>\n",
              "      <td>NaN</td>\n",
              "      <td>0</td>\n",
              "      <td>NaN</td>\n",
              "      <td>NaN</td>\n",
              "      <td>NaN</td>\n",
              "      <td>NaN</td>\n",
              "      <td>NaN</td>\n",
              "      <td>NaN</td>\n",
              "      <td>NaN</td>\n",
              "      <td>NaN</td>\n",
              "    </tr>\n",
              "    <tr>\n",
              "      <th>1</th>\n",
              "      <td>1</td>\n",
              "      <td>2</td>\n",
              "      <td>054.0 056.0</td>\n",
              "      <td>19-4903CR-HY-060-0930-05400560-0008A-3</td>\n",
              "      <td>8</td>\n",
              "      <td>10.46</td>\n",
              "      <td>33.440</td>\n",
              "      <td>NaN</td>\n",
              "      <td>25.656</td>\n",
              "      <td>NaN</td>\n",
              "      <td>...</td>\n",
              "      <td>NaN</td>\n",
              "      <td>8</td>\n",
              "      <td>NaN</td>\n",
              "      <td>NaN</td>\n",
              "      <td>NaN</td>\n",
              "      <td>NaN</td>\n",
              "      <td>NaN</td>\n",
              "      <td>NaN</td>\n",
              "      <td>NaN</td>\n",
              "      <td>NaN</td>\n",
              "    </tr>\n",
              "    <tr>\n",
              "      <th>2</th>\n",
              "      <td>1</td>\n",
              "      <td>3</td>\n",
              "      <td>054.0 056.0</td>\n",
              "      <td>19-4903CR-HY-060-0930-05400560-0010A-7</td>\n",
              "      <td>10</td>\n",
              "      <td>10.46</td>\n",
              "      <td>33.437</td>\n",
              "      <td>NaN</td>\n",
              "      <td>25.654</td>\n",
              "      <td>NaN</td>\n",
              "      <td>...</td>\n",
              "      <td>NaN</td>\n",
              "      <td>10</td>\n",
              "      <td>NaN</td>\n",
              "      <td>NaN</td>\n",
              "      <td>NaN</td>\n",
              "      <td>NaN</td>\n",
              "      <td>NaN</td>\n",
              "      <td>NaN</td>\n",
              "      <td>NaN</td>\n",
              "      <td>NaN</td>\n",
              "    </tr>\n",
              "    <tr>\n",
              "      <th>3</th>\n",
              "      <td>1</td>\n",
              "      <td>4</td>\n",
              "      <td>054.0 056.0</td>\n",
              "      <td>19-4903CR-HY-060-0930-05400560-0019A-3</td>\n",
              "      <td>19</td>\n",
              "      <td>10.45</td>\n",
              "      <td>33.420</td>\n",
              "      <td>NaN</td>\n",
              "      <td>25.643</td>\n",
              "      <td>NaN</td>\n",
              "      <td>...</td>\n",
              "      <td>NaN</td>\n",
              "      <td>19</td>\n",
              "      <td>NaN</td>\n",
              "      <td>NaN</td>\n",
              "      <td>NaN</td>\n",
              "      <td>NaN</td>\n",
              "      <td>NaN</td>\n",
              "      <td>NaN</td>\n",
              "      <td>NaN</td>\n",
              "      <td>NaN</td>\n",
              "    </tr>\n",
              "    <tr>\n",
              "      <th>4</th>\n",
              "      <td>1</td>\n",
              "      <td>5</td>\n",
              "      <td>054.0 056.0</td>\n",
              "      <td>19-4903CR-HY-060-0930-05400560-0020A-7</td>\n",
              "      <td>20</td>\n",
              "      <td>10.45</td>\n",
              "      <td>33.421</td>\n",
              "      <td>NaN</td>\n",
              "      <td>25.643</td>\n",
              "      <td>NaN</td>\n",
              "      <td>...</td>\n",
              "      <td>NaN</td>\n",
              "      <td>20</td>\n",
              "      <td>NaN</td>\n",
              "      <td>NaN</td>\n",
              "      <td>NaN</td>\n",
              "      <td>NaN</td>\n",
              "      <td>NaN</td>\n",
              "      <td>NaN</td>\n",
              "      <td>NaN</td>\n",
              "      <td>NaN</td>\n",
              "    </tr>\n",
              "  </tbody>\n",
              "</table>\n",
              "<p>5 rows × 74 columns</p>\n",
              "</div>\n",
              "      <button class=\"colab-df-convert\" onclick=\"convertToInteractive('df-78cf5911-3f88-459d-b974-fa44191a2ee0')\"\n",
              "              title=\"Convert this dataframe to an interactive table.\"\n",
              "              style=\"display:none;\">\n",
              "        \n",
              "  <svg xmlns=\"http://www.w3.org/2000/svg\" height=\"24px\"viewBox=\"0 0 24 24\"\n",
              "       width=\"24px\">\n",
              "    <path d=\"M0 0h24v24H0V0z\" fill=\"none\"/>\n",
              "    <path d=\"M18.56 5.44l.94 2.06.94-2.06 2.06-.94-2.06-.94-.94-2.06-.94 2.06-2.06.94zm-11 1L8.5 8.5l.94-2.06 2.06-.94-2.06-.94L8.5 2.5l-.94 2.06-2.06.94zm10 10l.94 2.06.94-2.06 2.06-.94-2.06-.94-.94-2.06-.94 2.06-2.06.94z\"/><path d=\"M17.41 7.96l-1.37-1.37c-.4-.4-.92-.59-1.43-.59-.52 0-1.04.2-1.43.59L10.3 9.45l-7.72 7.72c-.78.78-.78 2.05 0 2.83L4 21.41c.39.39.9.59 1.41.59.51 0 1.02-.2 1.41-.59l7.78-7.78 2.81-2.81c.8-.78.8-2.07 0-2.86zM5.41 20L4 18.59l7.72-7.72 1.47 1.35L5.41 20z\"/>\n",
              "  </svg>\n",
              "      </button>\n",
              "      \n",
              "  <style>\n",
              "    .colab-df-container {\n",
              "      display:flex;\n",
              "      flex-wrap:wrap;\n",
              "      gap: 12px;\n",
              "    }\n",
              "\n",
              "    .colab-df-convert {\n",
              "      background-color: #E8F0FE;\n",
              "      border: none;\n",
              "      border-radius: 50%;\n",
              "      cursor: pointer;\n",
              "      display: none;\n",
              "      fill: #1967D2;\n",
              "      height: 32px;\n",
              "      padding: 0 0 0 0;\n",
              "      width: 32px;\n",
              "    }\n",
              "\n",
              "    .colab-df-convert:hover {\n",
              "      background-color: #E2EBFA;\n",
              "      box-shadow: 0px 1px 2px rgba(60, 64, 67, 0.3), 0px 1px 3px 1px rgba(60, 64, 67, 0.15);\n",
              "      fill: #174EA6;\n",
              "    }\n",
              "\n",
              "    [theme=dark] .colab-df-convert {\n",
              "      background-color: #3B4455;\n",
              "      fill: #D2E3FC;\n",
              "    }\n",
              "\n",
              "    [theme=dark] .colab-df-convert:hover {\n",
              "      background-color: #434B5C;\n",
              "      box-shadow: 0px 1px 3px 1px rgba(0, 0, 0, 0.15);\n",
              "      filter: drop-shadow(0px 1px 2px rgba(0, 0, 0, 0.3));\n",
              "      fill: #FFFFFF;\n",
              "    }\n",
              "  </style>\n",
              "\n",
              "      <script>\n",
              "        const buttonEl =\n",
              "          document.querySelector('#df-78cf5911-3f88-459d-b974-fa44191a2ee0 button.colab-df-convert');\n",
              "        buttonEl.style.display =\n",
              "          google.colab.kernel.accessAllowed ? 'block' : 'none';\n",
              "\n",
              "        async function convertToInteractive(key) {\n",
              "          const element = document.querySelector('#df-78cf5911-3f88-459d-b974-fa44191a2ee0');\n",
              "          const dataTable =\n",
              "            await google.colab.kernel.invokeFunction('convertToInteractive',\n",
              "                                                     [key], {});\n",
              "          if (!dataTable) return;\n",
              "\n",
              "          const docLinkHtml = 'Like what you see? Visit the ' +\n",
              "            '<a target=\"_blank\" href=https://colab.research.google.com/notebooks/data_table.ipynb>data table notebook</a>'\n",
              "            + ' to learn more about interactive tables.';\n",
              "          element.innerHTML = '';\n",
              "          dataTable['output_type'] = 'display_data';\n",
              "          await google.colab.output.renderOutput(dataTable, element);\n",
              "          const docLink = document.createElement('div');\n",
              "          docLink.innerHTML = docLinkHtml;\n",
              "          element.appendChild(docLink);\n",
              "        }\n",
              "      </script>\n",
              "    </div>\n",
              "  </div>\n",
              "  "
            ]
          },
          "metadata": {},
          "execution_count": 8
        }
      ]
    },
    {
      "cell_type": "code",
      "source": [
        "bottle.shape"
      ],
      "metadata": {
        "id": "XRnD0TzmlNdT",
        "colab": {
          "base_uri": "https://localhost:8080/"
        },
        "outputId": "65607635-7b70-41ff-8491-0fbe52f6ba31"
      },
      "execution_count": 9,
      "outputs": [
        {
          "output_type": "execute_result",
          "data": {
            "text/plain": [
              "(864863, 74)"
            ]
          },
          "metadata": {},
          "execution_count": 9
        }
      ]
    },
    {
      "cell_type": "markdown",
      "source": [
        "###Check Null Values"
      ],
      "metadata": {
        "id": "Jty_M5UWubYb"
      }
    },
    {
      "cell_type": "code",
      "source": [
        "null_columns = (bottle.isnull().sum() / len(bottle)).sort_values(ascending=False)\n",
        "null_columns"
      ],
      "metadata": {
        "colab": {
          "base_uri": "https://localhost:8080/"
        },
        "id": "Mlkq41ONuawD",
        "outputId": "0d8b2e72-48da-4f65-90f9-03ab06fde9fd"
      },
      "execution_count": 10,
      "outputs": [
        {
          "output_type": "execute_result",
          "data": {
            "text/plain": [
              "pH2                    0.999988\n",
              "DIC Quality Comment    0.999936\n",
              "pH1                    0.999903\n",
              "DIC2                   0.999741\n",
              "TA2                    0.999729\n",
              "                         ...   \n",
              "RecInd                 0.000000\n",
              "Depthm                 0.000000\n",
              "Depth_ID               0.000000\n",
              "Sta_ID                 0.000000\n",
              "Cst_Cnt                0.000000\n",
              "Length: 74, dtype: float64"
            ]
          },
          "metadata": {},
          "execution_count": 10
        }
      ]
    },
    {
      "cell_type": "markdown",
      "source": [
        "There are columns with almost 100% null values.\n",
        "\n",
        "Removing all columns if >=50% of values are null "
      ],
      "metadata": {
        "id": "DjZ1eRGKu7b1"
      }
    },
    {
      "cell_type": "code",
      "source": [
        "drop_columns = null_columns[null_columns>=0.5].index"
      ],
      "metadata": {
        "id": "ql94cQq0t2Xd"
      },
      "execution_count": 11,
      "outputs": []
    },
    {
      "cell_type": "code",
      "source": [
        "drop_columns"
      ],
      "metadata": {
        "colab": {
          "base_uri": "https://localhost:8080/"
        },
        "id": "_pfq6jQYwLVp",
        "outputId": "fe403d9d-c9a3-4d52-f5ed-e17f775daabd"
      },
      "execution_count": 12,
      "outputs": [
        {
          "output_type": "execute_result",
          "data": {
            "text/plain": [
              "Index(['pH2', 'DIC Quality Comment', 'pH1', 'DIC2', 'TA2', 'DIC1', 'TA1',\n",
              "       'C14A2p', 'C14A1p', 'C14As2', 'C14As1', 'IncTim', 'LightP', 'DarkAp',\n",
              "       'MeanAp', 'DarkAs', 'MeanAs', 'T_qual', 'NH3uM', 'R_NH4', 'SThtaq',\n",
              "       'S_qual', 'BtlNum', 'R_SAMP', 'O_qual', 'O2Satq', 'Phaeop', 'ChlorA',\n",
              "       'R_PHAEO', 'R_CHLA', 'NO3uM', 'R_NO3', 'NO2uM', 'R_NO2', 'SiO3uM',\n",
              "       'R_SIO3', 'PO4uM', 'R_PO4'],\n",
              "      dtype='object')"
            ]
          },
          "metadata": {},
          "execution_count": 12
        }
      ]
    },
    {
      "cell_type": "code",
      "source": [
        "df = bottle.drop(columns=drop_columns, axis=1)"
      ],
      "metadata": {
        "id": "kiA-7UGWwY_p"
      },
      "execution_count": 13,
      "outputs": []
    },
    {
      "cell_type": "code",
      "source": [
        "df.shape"
      ],
      "metadata": {
        "colab": {
          "base_uri": "https://localhost:8080/"
        },
        "id": "iIuoABMOwgCE",
        "outputId": "d9e87586-ca1f-4be1-a50b-38ad6c9dff74"
      },
      "execution_count": 14,
      "outputs": [
        {
          "output_type": "execute_result",
          "data": {
            "text/plain": [
              "(864863, 36)"
            ]
          },
          "metadata": {},
          "execution_count": 14
        }
      ]
    },
    {
      "cell_type": "code",
      "source": [
        "df.head()"
      ],
      "metadata": {
        "colab": {
          "base_uri": "https://localhost:8080/",
          "height": 733
        },
        "id": "QPoLdCWYwg7e",
        "outputId": "8a0b03ae-0f2e-4efb-e4fa-aa57ce1eaffc"
      },
      "execution_count": 15,
      "outputs": [
        {
          "output_type": "execute_result",
          "data": {
            "text/plain": [
              "   Cst_Cnt  Btl_Cnt       Sta_ID                                Depth_ID  \\\n",
              "0        1        1  054.0 056.0  19-4903CR-HY-060-0930-05400560-0000A-3   \n",
              "1        1        2  054.0 056.0  19-4903CR-HY-060-0930-05400560-0008A-3   \n",
              "2        1        3  054.0 056.0  19-4903CR-HY-060-0930-05400560-0010A-7   \n",
              "3        1        4  054.0 056.0  19-4903CR-HY-060-0930-05400560-0019A-3   \n",
              "4        1        5  054.0 056.0  19-4903CR-HY-060-0930-05400560-0020A-7   \n",
              "\n",
              "   Depthm  T_degC  Salnty  O2ml_L  STheta  O2Sat  ...  R_Depth  R_TEMP  \\\n",
              "0       0   10.50  33.440     NaN  25.649    NaN  ...      0.0   10.50   \n",
              "1       8   10.46  33.440     NaN  25.656    NaN  ...      8.0   10.46   \n",
              "2      10   10.46  33.437     NaN  25.654    NaN  ...     10.0   10.46   \n",
              "3      19   10.45  33.420     NaN  25.643    NaN  ...     19.0   10.45   \n",
              "4      20   10.45  33.421     NaN  25.643    NaN  ...     20.0   10.45   \n",
              "\n",
              "   R_POTEMP  R_SALINITY  R_SIGMA  R_SVA  R_DYNHT  R_O2  R_O2Sat  R_PRES  \n",
              "0     10.50      33.440    25.64  233.0     0.00   NaN      NaN       0  \n",
              "1     10.46      33.440    25.65  232.5     0.01   NaN      NaN       8  \n",
              "2     10.46      33.437    25.65  232.8     0.02   NaN      NaN      10  \n",
              "3     10.45      33.420    25.64  234.1     0.04   NaN      NaN      19  \n",
              "4     10.45      33.421    25.64  234.0     0.04   NaN      NaN      20  \n",
              "\n",
              "[5 rows x 36 columns]"
            ],
            "text/html": [
              "\n",
              "  <div id=\"df-ce65d3ef-f626-4fbe-85d5-583835b32a0d\">\n",
              "    <div class=\"colab-df-container\">\n",
              "      <div>\n",
              "<style scoped>\n",
              "    .dataframe tbody tr th:only-of-type {\n",
              "        vertical-align: middle;\n",
              "    }\n",
              "\n",
              "    .dataframe tbody tr th {\n",
              "        vertical-align: top;\n",
              "    }\n",
              "\n",
              "    .dataframe thead th {\n",
              "        text-align: right;\n",
              "    }\n",
              "</style>\n",
              "<table border=\"1\" class=\"dataframe\">\n",
              "  <thead>\n",
              "    <tr style=\"text-align: right;\">\n",
              "      <th></th>\n",
              "      <th>Cst_Cnt</th>\n",
              "      <th>Btl_Cnt</th>\n",
              "      <th>Sta_ID</th>\n",
              "      <th>Depth_ID</th>\n",
              "      <th>Depthm</th>\n",
              "      <th>T_degC</th>\n",
              "      <th>Salnty</th>\n",
              "      <th>O2ml_L</th>\n",
              "      <th>STheta</th>\n",
              "      <th>O2Sat</th>\n",
              "      <th>...</th>\n",
              "      <th>R_Depth</th>\n",
              "      <th>R_TEMP</th>\n",
              "      <th>R_POTEMP</th>\n",
              "      <th>R_SALINITY</th>\n",
              "      <th>R_SIGMA</th>\n",
              "      <th>R_SVA</th>\n",
              "      <th>R_DYNHT</th>\n",
              "      <th>R_O2</th>\n",
              "      <th>R_O2Sat</th>\n",
              "      <th>R_PRES</th>\n",
              "    </tr>\n",
              "  </thead>\n",
              "  <tbody>\n",
              "    <tr>\n",
              "      <th>0</th>\n",
              "      <td>1</td>\n",
              "      <td>1</td>\n",
              "      <td>054.0 056.0</td>\n",
              "      <td>19-4903CR-HY-060-0930-05400560-0000A-3</td>\n",
              "      <td>0</td>\n",
              "      <td>10.50</td>\n",
              "      <td>33.440</td>\n",
              "      <td>NaN</td>\n",
              "      <td>25.649</td>\n",
              "      <td>NaN</td>\n",
              "      <td>...</td>\n",
              "      <td>0.0</td>\n",
              "      <td>10.50</td>\n",
              "      <td>10.50</td>\n",
              "      <td>33.440</td>\n",
              "      <td>25.64</td>\n",
              "      <td>233.0</td>\n",
              "      <td>0.00</td>\n",
              "      <td>NaN</td>\n",
              "      <td>NaN</td>\n",
              "      <td>0</td>\n",
              "    </tr>\n",
              "    <tr>\n",
              "      <th>1</th>\n",
              "      <td>1</td>\n",
              "      <td>2</td>\n",
              "      <td>054.0 056.0</td>\n",
              "      <td>19-4903CR-HY-060-0930-05400560-0008A-3</td>\n",
              "      <td>8</td>\n",
              "      <td>10.46</td>\n",
              "      <td>33.440</td>\n",
              "      <td>NaN</td>\n",
              "      <td>25.656</td>\n",
              "      <td>NaN</td>\n",
              "      <td>...</td>\n",
              "      <td>8.0</td>\n",
              "      <td>10.46</td>\n",
              "      <td>10.46</td>\n",
              "      <td>33.440</td>\n",
              "      <td>25.65</td>\n",
              "      <td>232.5</td>\n",
              "      <td>0.01</td>\n",
              "      <td>NaN</td>\n",
              "      <td>NaN</td>\n",
              "      <td>8</td>\n",
              "    </tr>\n",
              "    <tr>\n",
              "      <th>2</th>\n",
              "      <td>1</td>\n",
              "      <td>3</td>\n",
              "      <td>054.0 056.0</td>\n",
              "      <td>19-4903CR-HY-060-0930-05400560-0010A-7</td>\n",
              "      <td>10</td>\n",
              "      <td>10.46</td>\n",
              "      <td>33.437</td>\n",
              "      <td>NaN</td>\n",
              "      <td>25.654</td>\n",
              "      <td>NaN</td>\n",
              "      <td>...</td>\n",
              "      <td>10.0</td>\n",
              "      <td>10.46</td>\n",
              "      <td>10.46</td>\n",
              "      <td>33.437</td>\n",
              "      <td>25.65</td>\n",
              "      <td>232.8</td>\n",
              "      <td>0.02</td>\n",
              "      <td>NaN</td>\n",
              "      <td>NaN</td>\n",
              "      <td>10</td>\n",
              "    </tr>\n",
              "    <tr>\n",
              "      <th>3</th>\n",
              "      <td>1</td>\n",
              "      <td>4</td>\n",
              "      <td>054.0 056.0</td>\n",
              "      <td>19-4903CR-HY-060-0930-05400560-0019A-3</td>\n",
              "      <td>19</td>\n",
              "      <td>10.45</td>\n",
              "      <td>33.420</td>\n",
              "      <td>NaN</td>\n",
              "      <td>25.643</td>\n",
              "      <td>NaN</td>\n",
              "      <td>...</td>\n",
              "      <td>19.0</td>\n",
              "      <td>10.45</td>\n",
              "      <td>10.45</td>\n",
              "      <td>33.420</td>\n",
              "      <td>25.64</td>\n",
              "      <td>234.1</td>\n",
              "      <td>0.04</td>\n",
              "      <td>NaN</td>\n",
              "      <td>NaN</td>\n",
              "      <td>19</td>\n",
              "    </tr>\n",
              "    <tr>\n",
              "      <th>4</th>\n",
              "      <td>1</td>\n",
              "      <td>5</td>\n",
              "      <td>054.0 056.0</td>\n",
              "      <td>19-4903CR-HY-060-0930-05400560-0020A-7</td>\n",
              "      <td>20</td>\n",
              "      <td>10.45</td>\n",
              "      <td>33.421</td>\n",
              "      <td>NaN</td>\n",
              "      <td>25.643</td>\n",
              "      <td>NaN</td>\n",
              "      <td>...</td>\n",
              "      <td>20.0</td>\n",
              "      <td>10.45</td>\n",
              "      <td>10.45</td>\n",
              "      <td>33.421</td>\n",
              "      <td>25.64</td>\n",
              "      <td>234.0</td>\n",
              "      <td>0.04</td>\n",
              "      <td>NaN</td>\n",
              "      <td>NaN</td>\n",
              "      <td>20</td>\n",
              "    </tr>\n",
              "  </tbody>\n",
              "</table>\n",
              "<p>5 rows × 36 columns</p>\n",
              "</div>\n",
              "      <button class=\"colab-df-convert\" onclick=\"convertToInteractive('df-ce65d3ef-f626-4fbe-85d5-583835b32a0d')\"\n",
              "              title=\"Convert this dataframe to an interactive table.\"\n",
              "              style=\"display:none;\">\n",
              "        \n",
              "  <svg xmlns=\"http://www.w3.org/2000/svg\" height=\"24px\"viewBox=\"0 0 24 24\"\n",
              "       width=\"24px\">\n",
              "    <path d=\"M0 0h24v24H0V0z\" fill=\"none\"/>\n",
              "    <path d=\"M18.56 5.44l.94 2.06.94-2.06 2.06-.94-2.06-.94-.94-2.06-.94 2.06-2.06.94zm-11 1L8.5 8.5l.94-2.06 2.06-.94-2.06-.94L8.5 2.5l-.94 2.06-2.06.94zm10 10l.94 2.06.94-2.06 2.06-.94-2.06-.94-.94-2.06-.94 2.06-2.06.94z\"/><path d=\"M17.41 7.96l-1.37-1.37c-.4-.4-.92-.59-1.43-.59-.52 0-1.04.2-1.43.59L10.3 9.45l-7.72 7.72c-.78.78-.78 2.05 0 2.83L4 21.41c.39.39.9.59 1.41.59.51 0 1.02-.2 1.41-.59l7.78-7.78 2.81-2.81c.8-.78.8-2.07 0-2.86zM5.41 20L4 18.59l7.72-7.72 1.47 1.35L5.41 20z\"/>\n",
              "  </svg>\n",
              "      </button>\n",
              "      \n",
              "  <style>\n",
              "    .colab-df-container {\n",
              "      display:flex;\n",
              "      flex-wrap:wrap;\n",
              "      gap: 12px;\n",
              "    }\n",
              "\n",
              "    .colab-df-convert {\n",
              "      background-color: #E8F0FE;\n",
              "      border: none;\n",
              "      border-radius: 50%;\n",
              "      cursor: pointer;\n",
              "      display: none;\n",
              "      fill: #1967D2;\n",
              "      height: 32px;\n",
              "      padding: 0 0 0 0;\n",
              "      width: 32px;\n",
              "    }\n",
              "\n",
              "    .colab-df-convert:hover {\n",
              "      background-color: #E2EBFA;\n",
              "      box-shadow: 0px 1px 2px rgba(60, 64, 67, 0.3), 0px 1px 3px 1px rgba(60, 64, 67, 0.15);\n",
              "      fill: #174EA6;\n",
              "    }\n",
              "\n",
              "    [theme=dark] .colab-df-convert {\n",
              "      background-color: #3B4455;\n",
              "      fill: #D2E3FC;\n",
              "    }\n",
              "\n",
              "    [theme=dark] .colab-df-convert:hover {\n",
              "      background-color: #434B5C;\n",
              "      box-shadow: 0px 1px 3px 1px rgba(0, 0, 0, 0.15);\n",
              "      filter: drop-shadow(0px 1px 2px rgba(0, 0, 0, 0.3));\n",
              "      fill: #FFFFFF;\n",
              "    }\n",
              "  </style>\n",
              "\n",
              "      <script>\n",
              "        const buttonEl =\n",
              "          document.querySelector('#df-ce65d3ef-f626-4fbe-85d5-583835b32a0d button.colab-df-convert');\n",
              "        buttonEl.style.display =\n",
              "          google.colab.kernel.accessAllowed ? 'block' : 'none';\n",
              "\n",
              "        async function convertToInteractive(key) {\n",
              "          const element = document.querySelector('#df-ce65d3ef-f626-4fbe-85d5-583835b32a0d');\n",
              "          const dataTable =\n",
              "            await google.colab.kernel.invokeFunction('convertToInteractive',\n",
              "                                                     [key], {});\n",
              "          if (!dataTable) return;\n",
              "\n",
              "          const docLinkHtml = 'Like what you see? Visit the ' +\n",
              "            '<a target=\"_blank\" href=https://colab.research.google.com/notebooks/data_table.ipynb>data table notebook</a>'\n",
              "            + ' to learn more about interactive tables.';\n",
              "          element.innerHTML = '';\n",
              "          dataTable['output_type'] = 'display_data';\n",
              "          await google.colab.output.renderOutput(dataTable, element);\n",
              "          const docLink = document.createElement('div');\n",
              "          docLink.innerHTML = docLinkHtml;\n",
              "          element.appendChild(docLink);\n",
              "        }\n",
              "      </script>\n",
              "    </div>\n",
              "  </div>\n",
              "  "
            ]
          },
          "metadata": {},
          "execution_count": 15
        }
      ]
    },
    {
      "cell_type": "markdown",
      "source": [
        "### Exploring categorical features"
      ],
      "metadata": {
        "id": "-tENx3e0xZVM"
      }
    },
    {
      "cell_type": "code",
      "source": [
        "categorical_features = [i for i in df.columns if df[i].nunique() <= 5 ]\n",
        "categorical_features"
      ],
      "metadata": {
        "colab": {
          "base_uri": "https://localhost:8080/"
        },
        "id": "srq1LVV-wkcH",
        "outputId": "c7ce5e4f-7f0d-43f9-d487-0b99f60e4b19"
      },
      "execution_count": 16,
      "outputs": [
        {
          "output_type": "execute_result",
          "data": {
            "text/plain": [
              "['RecInd',\n",
              " 'T_prec',\n",
              " 'S_prec',\n",
              " 'P_qual',\n",
              " 'Chlqua',\n",
              " 'Phaqua',\n",
              " 'PO4q',\n",
              " 'SiO3qu',\n",
              " 'NO2q',\n",
              " 'NO3q',\n",
              " 'NH3q',\n",
              " 'C14A1q',\n",
              " 'C14A2q',\n",
              " 'DarkAq',\n",
              " 'MeanAq']"
            ]
          },
          "metadata": {},
          "execution_count": 16
        }
      ]
    },
    {
      "cell_type": "markdown",
      "source": [
        "Find the distribution of T_degC for each category.\n",
        "Delete if the >90% of the value is in on category.:"
      ],
      "metadata": {
        "id": "gu40bccmyV3R"
      }
    },
    {
      "cell_type": "code",
      "source": [
        "remove_cat_columns = []\n",
        "for i in categorical_features:\n",
        "  x = df.groupby(i)['T_degC'].count()\n",
        "  k = x.keys()\n",
        "  v = x.values\n",
        "  flag = True\n",
        "  for c in range(len(k)):\n",
        "    if(v[c]/v.sum() >= 0.9):\n",
        "      flag = False\n",
        "      break\n",
        "  if(not(flag)):\n",
        "    remove_cat_columns.append(i)\n",
        "remove_cat_columns"
      ],
      "metadata": {
        "colab": {
          "base_uri": "https://localhost:8080/"
        },
        "id": "b8n1EDsvxQra",
        "outputId": "20b3690f-e949-4ed7-db67-8a84bfc8b16f"
      },
      "execution_count": 17,
      "outputs": [
        {
          "output_type": "execute_result",
          "data": {
            "text/plain": [
              "['T_prec',\n",
              " 'P_qual',\n",
              " 'Chlqua',\n",
              " 'Phaqua',\n",
              " 'PO4q',\n",
              " 'SiO3qu',\n",
              " 'NO2q',\n",
              " 'NO3q',\n",
              " 'NH3q',\n",
              " 'C14A1q',\n",
              " 'C14A2q',\n",
              " 'DarkAq',\n",
              " 'MeanAq']"
            ]
          },
          "metadata": {},
          "execution_count": 17
        }
      ]
    },
    {
      "cell_type": "code",
      "source": [
        "df.drop(columns=remove_cat_columns, inplace=True)"
      ],
      "metadata": {
        "id": "tlTJUnnNy2Lp"
      },
      "execution_count": 18,
      "outputs": []
    },
    {
      "cell_type": "code",
      "source": [
        "df.shape"
      ],
      "metadata": {
        "colab": {
          "base_uri": "https://localhost:8080/"
        },
        "id": "lhpZtTvA2UVU",
        "outputId": "caa1a40f-3ae4-4bf7-b642-e369de4891f6"
      },
      "execution_count": 19,
      "outputs": [
        {
          "output_type": "execute_result",
          "data": {
            "text/plain": [
              "(864863, 23)"
            ]
          },
          "metadata": {},
          "execution_count": 19
        }
      ]
    },
    {
      "cell_type": "code",
      "source": [
        "df.columns"
      ],
      "metadata": {
        "colab": {
          "base_uri": "https://localhost:8080/"
        },
        "id": "2jYKBnq42WU1",
        "outputId": "58276b5a-969f-44f9-9b12-0efa1a4e0cd1"
      },
      "execution_count": 20,
      "outputs": [
        {
          "output_type": "execute_result",
          "data": {
            "text/plain": [
              "Index(['Cst_Cnt', 'Btl_Cnt', 'Sta_ID', 'Depth_ID', 'Depthm', 'T_degC',\n",
              "       'Salnty', 'O2ml_L', 'STheta', 'O2Sat', 'Oxy_µmol/Kg', 'RecInd',\n",
              "       'S_prec', 'R_Depth', 'R_TEMP', 'R_POTEMP', 'R_SALINITY', 'R_SIGMA',\n",
              "       'R_SVA', 'R_DYNHT', 'R_O2', 'R_O2Sat', 'R_PRES'],\n",
              "      dtype='object')"
            ]
          },
          "metadata": {},
          "execution_count": 20
        }
      ]
    },
    {
      "cell_type": "markdown",
      "source": [
        "##Feature analysis and clean up"
      ],
      "metadata": {
        "id": "yCUlUBfU2r9D"
      }
    },
    {
      "cell_type": "code",
      "source": [
        "(df.isnull().sum() / len(df)).sort_values(ascending=False)"
      ],
      "metadata": {
        "colab": {
          "base_uri": "https://localhost:8080/"
        },
        "id": "M04zr8pL2h62",
        "outputId": "046dcc47-96b7-47f4-d74a-0b6949388240"
      },
      "execution_count": 21,
      "outputs": [
        {
          "output_type": "execute_result",
          "data": {
            "text/plain": [
              "Oxy_µmol/Kg    0.235407\n",
              "O2Sat          0.235400\n",
              "R_O2Sat        0.229418\n",
              "R_O2           0.195016\n",
              "O2ml_L         0.195016\n",
              "R_SIGMA        0.061115\n",
              "R_SVA          0.061017\n",
              "STheta         0.060922\n",
              "R_SALINITY     0.054753\n",
              "Salnty         0.054753\n",
              "S_prec         0.054753\n",
              "R_DYNHT        0.053947\n",
              "R_POTEMP       0.053242\n",
              "T_degC         0.012676\n",
              "R_TEMP         0.012676\n",
              "Cst_Cnt        0.000000\n",
              "RecInd         0.000000\n",
              "R_Depth        0.000000\n",
              "Btl_Cnt        0.000000\n",
              "Depthm         0.000000\n",
              "Depth_ID       0.000000\n",
              "Sta_ID         0.000000\n",
              "R_PRES         0.000000\n",
              "dtype: float64"
            ]
          },
          "metadata": {},
          "execution_count": 21
        }
      ]
    },
    {
      "cell_type": "markdown",
      "source": [
        "Since T_dec has some null values we can use it for predictions"
      ],
      "metadata": {
        "id": "os-GffZb3-4u"
      }
    },
    {
      "cell_type": "code",
      "source": [
        "prediction_df = df[df['T_degC'].isnull()]"
      ],
      "metadata": {
        "id": "ifi22Sqb3Im_"
      },
      "execution_count": 22,
      "outputs": []
    },
    {
      "cell_type": "code",
      "source": [
        "prediction_df.shape"
      ],
      "metadata": {
        "colab": {
          "base_uri": "https://localhost:8080/"
        },
        "id": "lUPT5Qq04Mvt",
        "outputId": "15f915a0-0c6d-4198-94a4-8ec367c2b44e"
      },
      "execution_count": 23,
      "outputs": [
        {
          "output_type": "execute_result",
          "data": {
            "text/plain": [
              "(10963, 23)"
            ]
          },
          "metadata": {},
          "execution_count": 23
        }
      ]
    },
    {
      "cell_type": "code",
      "source": [
        "df =  df[~df['T_degC'].isnull()]"
      ],
      "metadata": {
        "id": "nYOb3F-e4PcV"
      },
      "execution_count": 24,
      "outputs": []
    },
    {
      "cell_type": "code",
      "source": [
        "df.shape"
      ],
      "metadata": {
        "colab": {
          "base_uri": "https://localhost:8080/"
        },
        "id": "NLqp31WR4mE6",
        "outputId": "7accaaba-c76a-4188-dae3-efcb4f2b159b"
      },
      "execution_count": 25,
      "outputs": [
        {
          "output_type": "execute_result",
          "data": {
            "text/plain": [
              "(853900, 23)"
            ]
          },
          "metadata": {},
          "execution_count": 25
        }
      ]
    },
    {
      "cell_type": "code",
      "source": [
        "df.head()"
      ],
      "metadata": {
        "colab": {
          "base_uri": "https://localhost:8080/",
          "height": 733
        },
        "id": "mBYNbtpT4oAg",
        "outputId": "e5fafdbe-6d7a-4b12-fa1b-7be5bb309de0"
      },
      "execution_count": 26,
      "outputs": [
        {
          "output_type": "execute_result",
          "data": {
            "text/plain": [
              "   Cst_Cnt  Btl_Cnt       Sta_ID                                Depth_ID  \\\n",
              "0        1        1  054.0 056.0  19-4903CR-HY-060-0930-05400560-0000A-3   \n",
              "1        1        2  054.0 056.0  19-4903CR-HY-060-0930-05400560-0008A-3   \n",
              "2        1        3  054.0 056.0  19-4903CR-HY-060-0930-05400560-0010A-7   \n",
              "3        1        4  054.0 056.0  19-4903CR-HY-060-0930-05400560-0019A-3   \n",
              "4        1        5  054.0 056.0  19-4903CR-HY-060-0930-05400560-0020A-7   \n",
              "\n",
              "   Depthm  T_degC  Salnty  O2ml_L  STheta  O2Sat  ...  R_Depth  R_TEMP  \\\n",
              "0       0   10.50  33.440     NaN  25.649    NaN  ...      0.0   10.50   \n",
              "1       8   10.46  33.440     NaN  25.656    NaN  ...      8.0   10.46   \n",
              "2      10   10.46  33.437     NaN  25.654    NaN  ...     10.0   10.46   \n",
              "3      19   10.45  33.420     NaN  25.643    NaN  ...     19.0   10.45   \n",
              "4      20   10.45  33.421     NaN  25.643    NaN  ...     20.0   10.45   \n",
              "\n",
              "   R_POTEMP  R_SALINITY  R_SIGMA  R_SVA  R_DYNHT  R_O2  R_O2Sat  R_PRES  \n",
              "0     10.50      33.440    25.64  233.0     0.00   NaN      NaN       0  \n",
              "1     10.46      33.440    25.65  232.5     0.01   NaN      NaN       8  \n",
              "2     10.46      33.437    25.65  232.8     0.02   NaN      NaN      10  \n",
              "3     10.45      33.420    25.64  234.1     0.04   NaN      NaN      19  \n",
              "4     10.45      33.421    25.64  234.0     0.04   NaN      NaN      20  \n",
              "\n",
              "[5 rows x 23 columns]"
            ],
            "text/html": [
              "\n",
              "  <div id=\"df-ad08c84f-6d76-4dd5-8bcc-292188316541\">\n",
              "    <div class=\"colab-df-container\">\n",
              "      <div>\n",
              "<style scoped>\n",
              "    .dataframe tbody tr th:only-of-type {\n",
              "        vertical-align: middle;\n",
              "    }\n",
              "\n",
              "    .dataframe tbody tr th {\n",
              "        vertical-align: top;\n",
              "    }\n",
              "\n",
              "    .dataframe thead th {\n",
              "        text-align: right;\n",
              "    }\n",
              "</style>\n",
              "<table border=\"1\" class=\"dataframe\">\n",
              "  <thead>\n",
              "    <tr style=\"text-align: right;\">\n",
              "      <th></th>\n",
              "      <th>Cst_Cnt</th>\n",
              "      <th>Btl_Cnt</th>\n",
              "      <th>Sta_ID</th>\n",
              "      <th>Depth_ID</th>\n",
              "      <th>Depthm</th>\n",
              "      <th>T_degC</th>\n",
              "      <th>Salnty</th>\n",
              "      <th>O2ml_L</th>\n",
              "      <th>STheta</th>\n",
              "      <th>O2Sat</th>\n",
              "      <th>...</th>\n",
              "      <th>R_Depth</th>\n",
              "      <th>R_TEMP</th>\n",
              "      <th>R_POTEMP</th>\n",
              "      <th>R_SALINITY</th>\n",
              "      <th>R_SIGMA</th>\n",
              "      <th>R_SVA</th>\n",
              "      <th>R_DYNHT</th>\n",
              "      <th>R_O2</th>\n",
              "      <th>R_O2Sat</th>\n",
              "      <th>R_PRES</th>\n",
              "    </tr>\n",
              "  </thead>\n",
              "  <tbody>\n",
              "    <tr>\n",
              "      <th>0</th>\n",
              "      <td>1</td>\n",
              "      <td>1</td>\n",
              "      <td>054.0 056.0</td>\n",
              "      <td>19-4903CR-HY-060-0930-05400560-0000A-3</td>\n",
              "      <td>0</td>\n",
              "      <td>10.50</td>\n",
              "      <td>33.440</td>\n",
              "      <td>NaN</td>\n",
              "      <td>25.649</td>\n",
              "      <td>NaN</td>\n",
              "      <td>...</td>\n",
              "      <td>0.0</td>\n",
              "      <td>10.50</td>\n",
              "      <td>10.50</td>\n",
              "      <td>33.440</td>\n",
              "      <td>25.64</td>\n",
              "      <td>233.0</td>\n",
              "      <td>0.00</td>\n",
              "      <td>NaN</td>\n",
              "      <td>NaN</td>\n",
              "      <td>0</td>\n",
              "    </tr>\n",
              "    <tr>\n",
              "      <th>1</th>\n",
              "      <td>1</td>\n",
              "      <td>2</td>\n",
              "      <td>054.0 056.0</td>\n",
              "      <td>19-4903CR-HY-060-0930-05400560-0008A-3</td>\n",
              "      <td>8</td>\n",
              "      <td>10.46</td>\n",
              "      <td>33.440</td>\n",
              "      <td>NaN</td>\n",
              "      <td>25.656</td>\n",
              "      <td>NaN</td>\n",
              "      <td>...</td>\n",
              "      <td>8.0</td>\n",
              "      <td>10.46</td>\n",
              "      <td>10.46</td>\n",
              "      <td>33.440</td>\n",
              "      <td>25.65</td>\n",
              "      <td>232.5</td>\n",
              "      <td>0.01</td>\n",
              "      <td>NaN</td>\n",
              "      <td>NaN</td>\n",
              "      <td>8</td>\n",
              "    </tr>\n",
              "    <tr>\n",
              "      <th>2</th>\n",
              "      <td>1</td>\n",
              "      <td>3</td>\n",
              "      <td>054.0 056.0</td>\n",
              "      <td>19-4903CR-HY-060-0930-05400560-0010A-7</td>\n",
              "      <td>10</td>\n",
              "      <td>10.46</td>\n",
              "      <td>33.437</td>\n",
              "      <td>NaN</td>\n",
              "      <td>25.654</td>\n",
              "      <td>NaN</td>\n",
              "      <td>...</td>\n",
              "      <td>10.0</td>\n",
              "      <td>10.46</td>\n",
              "      <td>10.46</td>\n",
              "      <td>33.437</td>\n",
              "      <td>25.65</td>\n",
              "      <td>232.8</td>\n",
              "      <td>0.02</td>\n",
              "      <td>NaN</td>\n",
              "      <td>NaN</td>\n",
              "      <td>10</td>\n",
              "    </tr>\n",
              "    <tr>\n",
              "      <th>3</th>\n",
              "      <td>1</td>\n",
              "      <td>4</td>\n",
              "      <td>054.0 056.0</td>\n",
              "      <td>19-4903CR-HY-060-0930-05400560-0019A-3</td>\n",
              "      <td>19</td>\n",
              "      <td>10.45</td>\n",
              "      <td>33.420</td>\n",
              "      <td>NaN</td>\n",
              "      <td>25.643</td>\n",
              "      <td>NaN</td>\n",
              "      <td>...</td>\n",
              "      <td>19.0</td>\n",
              "      <td>10.45</td>\n",
              "      <td>10.45</td>\n",
              "      <td>33.420</td>\n",
              "      <td>25.64</td>\n",
              "      <td>234.1</td>\n",
              "      <td>0.04</td>\n",
              "      <td>NaN</td>\n",
              "      <td>NaN</td>\n",
              "      <td>19</td>\n",
              "    </tr>\n",
              "    <tr>\n",
              "      <th>4</th>\n",
              "      <td>1</td>\n",
              "      <td>5</td>\n",
              "      <td>054.0 056.0</td>\n",
              "      <td>19-4903CR-HY-060-0930-05400560-0020A-7</td>\n",
              "      <td>20</td>\n",
              "      <td>10.45</td>\n",
              "      <td>33.421</td>\n",
              "      <td>NaN</td>\n",
              "      <td>25.643</td>\n",
              "      <td>NaN</td>\n",
              "      <td>...</td>\n",
              "      <td>20.0</td>\n",
              "      <td>10.45</td>\n",
              "      <td>10.45</td>\n",
              "      <td>33.421</td>\n",
              "      <td>25.64</td>\n",
              "      <td>234.0</td>\n",
              "      <td>0.04</td>\n",
              "      <td>NaN</td>\n",
              "      <td>NaN</td>\n",
              "      <td>20</td>\n",
              "    </tr>\n",
              "  </tbody>\n",
              "</table>\n",
              "<p>5 rows × 23 columns</p>\n",
              "</div>\n",
              "      <button class=\"colab-df-convert\" onclick=\"convertToInteractive('df-ad08c84f-6d76-4dd5-8bcc-292188316541')\"\n",
              "              title=\"Convert this dataframe to an interactive table.\"\n",
              "              style=\"display:none;\">\n",
              "        \n",
              "  <svg xmlns=\"http://www.w3.org/2000/svg\" height=\"24px\"viewBox=\"0 0 24 24\"\n",
              "       width=\"24px\">\n",
              "    <path d=\"M0 0h24v24H0V0z\" fill=\"none\"/>\n",
              "    <path d=\"M18.56 5.44l.94 2.06.94-2.06 2.06-.94-2.06-.94-.94-2.06-.94 2.06-2.06.94zm-11 1L8.5 8.5l.94-2.06 2.06-.94-2.06-.94L8.5 2.5l-.94 2.06-2.06.94zm10 10l.94 2.06.94-2.06 2.06-.94-2.06-.94-.94-2.06-.94 2.06-2.06.94z\"/><path d=\"M17.41 7.96l-1.37-1.37c-.4-.4-.92-.59-1.43-.59-.52 0-1.04.2-1.43.59L10.3 9.45l-7.72 7.72c-.78.78-.78 2.05 0 2.83L4 21.41c.39.39.9.59 1.41.59.51 0 1.02-.2 1.41-.59l7.78-7.78 2.81-2.81c.8-.78.8-2.07 0-2.86zM5.41 20L4 18.59l7.72-7.72 1.47 1.35L5.41 20z\"/>\n",
              "  </svg>\n",
              "      </button>\n",
              "      \n",
              "  <style>\n",
              "    .colab-df-container {\n",
              "      display:flex;\n",
              "      flex-wrap:wrap;\n",
              "      gap: 12px;\n",
              "    }\n",
              "\n",
              "    .colab-df-convert {\n",
              "      background-color: #E8F0FE;\n",
              "      border: none;\n",
              "      border-radius: 50%;\n",
              "      cursor: pointer;\n",
              "      display: none;\n",
              "      fill: #1967D2;\n",
              "      height: 32px;\n",
              "      padding: 0 0 0 0;\n",
              "      width: 32px;\n",
              "    }\n",
              "\n",
              "    .colab-df-convert:hover {\n",
              "      background-color: #E2EBFA;\n",
              "      box-shadow: 0px 1px 2px rgba(60, 64, 67, 0.3), 0px 1px 3px 1px rgba(60, 64, 67, 0.15);\n",
              "      fill: #174EA6;\n",
              "    }\n",
              "\n",
              "    [theme=dark] .colab-df-convert {\n",
              "      background-color: #3B4455;\n",
              "      fill: #D2E3FC;\n",
              "    }\n",
              "\n",
              "    [theme=dark] .colab-df-convert:hover {\n",
              "      background-color: #434B5C;\n",
              "      box-shadow: 0px 1px 3px 1px rgba(0, 0, 0, 0.15);\n",
              "      filter: drop-shadow(0px 1px 2px rgba(0, 0, 0, 0.3));\n",
              "      fill: #FFFFFF;\n",
              "    }\n",
              "  </style>\n",
              "\n",
              "      <script>\n",
              "        const buttonEl =\n",
              "          document.querySelector('#df-ad08c84f-6d76-4dd5-8bcc-292188316541 button.colab-df-convert');\n",
              "        buttonEl.style.display =\n",
              "          google.colab.kernel.accessAllowed ? 'block' : 'none';\n",
              "\n",
              "        async function convertToInteractive(key) {\n",
              "          const element = document.querySelector('#df-ad08c84f-6d76-4dd5-8bcc-292188316541');\n",
              "          const dataTable =\n",
              "            await google.colab.kernel.invokeFunction('convertToInteractive',\n",
              "                                                     [key], {});\n",
              "          if (!dataTable) return;\n",
              "\n",
              "          const docLinkHtml = 'Like what you see? Visit the ' +\n",
              "            '<a target=\"_blank\" href=https://colab.research.google.com/notebooks/data_table.ipynb>data table notebook</a>'\n",
              "            + ' to learn more about interactive tables.';\n",
              "          element.innerHTML = '';\n",
              "          dataTable['output_type'] = 'display_data';\n",
              "          await google.colab.output.renderOutput(dataTable, element);\n",
              "          const docLink = document.createElement('div');\n",
              "          docLink.innerHTML = docLinkHtml;\n",
              "          element.appendChild(docLink);\n",
              "        }\n",
              "      </script>\n",
              "    </div>\n",
              "  </div>\n",
              "  "
            ]
          },
          "metadata": {},
          "execution_count": 26
        }
      ]
    },
    {
      "cell_type": "markdown",
      "source": [
        "Removing duplicated columns in the dataset before splitting"
      ],
      "metadata": {
        "id": "RDnfmbtT_Z-3"
      }
    },
    {
      "cell_type": "markdown",
      "source": [
        "Finding highly correlated columns"
      ],
      "metadata": {
        "id": "T46RNWPy_2DA"
      }
    },
    {
      "cell_type": "code",
      "source": [
        "temp_df = df.dropna()\n",
        "cor_matrix = temp_df.corr().abs()"
      ],
      "metadata": {
        "id": "ZFY1ZtUEA0ei"
      },
      "execution_count": 27,
      "outputs": []
    },
    {
      "cell_type": "code",
      "source": [
        "plt.figure(figsize = (20,10))\n",
        "sns.heatmap(cor_matrix, annot = True)"
      ],
      "metadata": {
        "colab": {
          "base_uri": "https://localhost:8080/",
          "height": 668
        },
        "id": "tGiuL9j8Bbxz",
        "outputId": "128551a3-ee4d-49e2-d694-a865e6e5b89a"
      },
      "execution_count": 28,
      "outputs": [
        {
          "output_type": "execute_result",
          "data": {
            "text/plain": [
              "<matplotlib.axes._subplots.AxesSubplot at 0x7eff702f1f50>"
            ]
          },
          "metadata": {},
          "execution_count": 28
        },
        {
          "output_type": "display_data",
          "data": {
            "text/plain": [
              "<Figure size 1440x720 with 2 Axes>"
            ],
            "image/png": "[encoded data removed]"
          },
          "metadata": {
            "needs_background": "light"
          }
        }
      ]
    },
    {
      "cell_type": "code",
      "source": [
        "upper_tri = cor_matrix.where(np.triu(np.ones(cor_matrix.shape),k=1).astype(np.bool))"
      ],
      "metadata": {
        "colab": {
          "base_uri": "https://localhost:8080/"
        },
        "id": "O4VkAGkGA-Nc",
        "outputId": "13c12bff-2c7f-45a5-9f06-16a9fa156381"
      },
      "execution_count": 29,
      "outputs": [
        {
          "output_type": "stream",
          "name": "stderr",
          "text": [
            "/usr/local/lib/python3.7/dist-packages/ipykernel_launcher.py:1: DeprecationWarning: `np.bool` is a deprecated alias for the builtin `bool`. To silence this warning, use `bool` by itself. Doing this will not modify any behavior and is safe. If you specifically wanted the numpy scalar type, use `np.bool_` here.\n",
            "Deprecated in NumPy 1.20; for more details and guidance: https://numpy.org/devdocs/release/1.20.0-notes.html#deprecations\n",
            "  \"\"\"Entry point for launching an IPython kernel.\n"
          ]
        }
      ]
    },
    {
      "cell_type": "code",
      "source": [
        "upper_tri"
      ],
      "metadata": {
        "colab": {
          "base_uri": "https://localhost:8080/",
          "height": 801
        },
        "id": "41mdHBe9BOYk",
        "outputId": "62cd441a-2c80-4c70-ee6c-b8293a15597e"
      },
      "execution_count": 30,
      "outputs": [
        {
          "output_type": "execute_result",
          "data": {
            "text/plain": [
              "             Cst_Cnt   Btl_Cnt    Depthm    T_degC    Salnty    O2ml_L  \\\n",
              "Cst_Cnt          NaN  0.999344  0.168704  0.073941  0.223510  0.144777   \n",
              "Btl_Cnt          NaN       NaN  0.167673  0.074290  0.219979  0.142851   \n",
              "Depthm           NaN       NaN       NaN  0.668624  0.566891  0.597261   \n",
              "T_degC           NaN       NaN       NaN       NaN  0.504604  0.795378   \n",
              "Salnty           NaN       NaN       NaN       NaN       NaN  0.824888   \n",
              "O2ml_L           NaN       NaN       NaN       NaN       NaN       NaN   \n",
              "STheta           NaN       NaN       NaN       NaN       NaN       NaN   \n",
              "O2Sat            NaN       NaN       NaN       NaN       NaN       NaN   \n",
              "Oxy_µmol/Kg      NaN       NaN       NaN       NaN       NaN       NaN   \n",
              "RecInd           NaN       NaN       NaN       NaN       NaN       NaN   \n",
              "S_prec           NaN       NaN       NaN       NaN       NaN       NaN   \n",
              "R_Depth          NaN       NaN       NaN       NaN       NaN       NaN   \n",
              "R_TEMP           NaN       NaN       NaN       NaN       NaN       NaN   \n",
              "R_POTEMP         NaN       NaN       NaN       NaN       NaN       NaN   \n",
              "R_SALINITY       NaN       NaN       NaN       NaN       NaN       NaN   \n",
              "R_SIGMA          NaN       NaN       NaN       NaN       NaN       NaN   \n",
              "R_SVA            NaN       NaN       NaN       NaN       NaN       NaN   \n",
              "R_DYNHT          NaN       NaN       NaN       NaN       NaN       NaN   \n",
              "R_O2             NaN       NaN       NaN       NaN       NaN       NaN   \n",
              "R_O2Sat          NaN       NaN       NaN       NaN       NaN       NaN   \n",
              "R_PRES           NaN       NaN       NaN       NaN       NaN       NaN   \n",
              "\n",
              "               STheta     O2Sat  Oxy_µmol/Kg    RecInd  ...   R_Depth  \\\n",
              "Cst_Cnt      0.116994  0.133793     0.144788  0.112796  ...  0.168704   \n",
              "Btl_Cnt      0.116031  0.132090     0.142865  0.113631  ...  0.167673   \n",
              "Depthm       0.668570  0.602950     0.597326  0.081350  ...  1.000000   \n",
              "T_degC       0.964096  0.850988     0.795915  0.062913  ...  0.668624   \n",
              "Salnty       0.700970  0.790515     0.824840  0.069256  ...  0.566891   \n",
              "O2ml_L       0.889966  0.993211     0.999999  0.071459  ...  0.597261   \n",
              "STheta            NaN  0.929273     0.890441  0.067074  ...  0.668570   \n",
              "O2Sat             NaN       NaN     0.993338  0.069317  ...  0.602950   \n",
              "Oxy_µmol/Kg       NaN       NaN          NaN  0.071474  ...  0.597326   \n",
              "RecInd            NaN       NaN          NaN       NaN  ...  0.081350   \n",
              "S_prec            NaN       NaN          NaN       NaN  ...  0.003996   \n",
              "R_Depth           NaN       NaN          NaN       NaN  ...       NaN   \n",
              "R_TEMP            NaN       NaN          NaN       NaN  ...       NaN   \n",
              "R_POTEMP          NaN       NaN          NaN       NaN  ...       NaN   \n",
              "R_SALINITY        NaN       NaN          NaN       NaN  ...       NaN   \n",
              "R_SIGMA           NaN       NaN          NaN       NaN  ...       NaN   \n",
              "R_SVA             NaN       NaN          NaN       NaN  ...       NaN   \n",
              "R_DYNHT           NaN       NaN          NaN       NaN  ...       NaN   \n",
              "R_O2              NaN       NaN          NaN       NaN  ...       NaN   \n",
              "R_O2Sat           NaN       NaN          NaN       NaN  ...       NaN   \n",
              "R_PRES            NaN       NaN          NaN       NaN  ...       NaN   \n",
              "\n",
              "               R_TEMP  R_POTEMP  R_SALINITY   R_SIGMA     R_SVA   R_DYNHT  \\\n",
              "Cst_Cnt      0.073950  0.074565    0.223568  0.116197  0.114916  0.166019   \n",
              "Btl_Cnt      0.074300  0.074906    0.220039  0.115216  0.113963  0.165528   \n",
              "Depthm       0.668625  0.671528    0.566896  0.668514  0.660517  0.922600   \n",
              "T_degC       1.000000  0.999992    0.504599  0.964139  0.964631  0.797220   \n",
              "Salnty       0.504606  0.506068    1.000000  0.700828  0.696364  0.666701   \n",
              "O2ml_L       0.795379  0.795929    0.824882  0.889964  0.886779  0.767949   \n",
              "STheta       0.964096  0.964319    0.700965  0.999995  0.999872  0.814417   \n",
              "O2Sat        0.850989  0.851359    0.790509  0.929278  0.927121  0.776090   \n",
              "Oxy_µmol/Kg  0.795916  0.796464    0.824834  0.890439  0.887265  0.768046   \n",
              "RecInd       0.062913  0.063099    0.069268  0.067025  0.066271  0.086888   \n",
              "S_prec       0.047647  0.047443    0.080925  0.017276  0.017503  0.005009   \n",
              "R_Depth      0.668625  0.671528    0.566896  0.668514  0.660517  0.922600   \n",
              "R_TEMP            NaN  0.999992    0.504600  0.964139  0.964632  0.797221   \n",
              "R_POTEMP          NaN       NaN    0.506063  0.964361  0.964806  0.799385   \n",
              "R_SALINITY        NaN       NaN         NaN  0.700822  0.696359  0.666706   \n",
              "R_SIGMA           NaN       NaN         NaN       NaN  0.999869  0.814364   \n",
              "R_SVA             NaN       NaN         NaN       NaN       NaN  0.806301   \n",
              "R_DYNHT           NaN       NaN         NaN       NaN       NaN       NaN   \n",
              "R_O2              NaN       NaN         NaN       NaN       NaN       NaN   \n",
              "R_O2Sat           NaN       NaN         NaN       NaN       NaN       NaN   \n",
              "R_PRES            NaN       NaN         NaN       NaN       NaN       NaN   \n",
              "\n",
              "                 R_O2   R_O2Sat    R_PRES  \n",
              "Cst_Cnt      0.144799  0.133802  0.168319  \n",
              "Btl_Cnt      0.142873  0.132100  0.167282  \n",
              "Depthm       0.597261  0.602951  0.999994  \n",
              "T_degC       0.795379  0.850988  0.667216  \n",
              "Salnty       0.824889  0.790516  0.565651  \n",
              "O2ml_L       0.999998  0.993211  0.595450  \n",
              "STheta       0.889967  0.929274  0.667033  \n",
              "O2Sat        0.993210  1.000000  0.601183  \n",
              "Oxy_µmol/Kg  0.999997  0.993338  0.595516  \n",
              "RecInd       0.071458  0.069319  0.081211  \n",
              "S_prec       0.027486  0.016698  0.003935  \n",
              "R_Depth      0.597261  0.602951  0.999994  \n",
              "R_TEMP       0.795379  0.850989  0.667217  \n",
              "R_POTEMP     0.795929  0.851359  0.670125  \n",
              "R_SALINITY   0.824883  0.790510  0.565656  \n",
              "R_SIGMA      0.889964  0.929279  0.666978  \n",
              "R_SVA        0.886779  0.927121  0.658987  \n",
              "R_DYNHT      0.767948  0.776090  0.921499  \n",
              "R_O2              NaN  0.993210  0.595451  \n",
              "R_O2Sat           NaN       NaN  0.601184  \n",
              "R_PRES            NaN       NaN       NaN  \n",
              "\n",
              "[21 rows x 21 columns]"
            ],
            "text/html": [
              "\n",
              "  <div id=\"df-6f88d38a-1cd7-4208-84df-e61b10ed337e\">\n",
              "    <div class=\"colab-df-container\">\n",
              "      <div>\n",
              "<style scoped>\n",
              "    .dataframe tbody tr th:only-of-type {\n",
              "        vertical-align: middle;\n",
              "    }\n",
              "\n",
              "    .dataframe tbody tr th {\n",
              "        vertical-align: top;\n",
              "    }\n",
              "\n",
              "    .dataframe thead th {\n",
              "        text-align: right;\n",
              "    }\n",
              "</style>\n",
              "<table border=\"1\" class=\"dataframe\">\n",
              "  <thead>\n",
              "    <tr style=\"text-align: right;\">\n",
              "      <th></th>\n",
              "      <th>Cst_Cnt</th>\n",
              "      <th>Btl_Cnt</th>\n",
              "      <th>Depthm</th>\n",
              "      <th>T_degC</th>\n",
              "      <th>Salnty</th>\n",
              "      <th>O2ml_L</th>\n",
              "      <th>STheta</th>\n",
              "      <th>O2Sat</th>\n",
              "      <th>Oxy_µmol/Kg</th>\n",
              "      <th>RecInd</th>\n",
              "      <th>...</th>\n",
              "      <th>R_Depth</th>\n",
              "      <th>R_TEMP</th>\n",
              "      <th>R_POTEMP</th>\n",
              "      <th>R_SALINITY</th>\n",
              "      <th>R_SIGMA</th>\n",
              "      <th>R_SVA</th>\n",
              "      <th>R_DYNHT</th>\n",
              "      <th>R_O2</th>\n",
              "      <th>R_O2Sat</th>\n",
              "      <th>R_PRES</th>\n",
              "    </tr>\n",
              "  </thead>\n",
              "  <tbody>\n",
              "    <tr>\n",
              "      <th>Cst_Cnt</th>\n",
              "      <td>NaN</td>\n",
              "      <td>0.999344</td>\n",
              "      <td>0.168704</td>\n",
              "      <td>0.073941</td>\n",
              "      <td>0.223510</td>\n",
              "      <td>0.144777</td>\n",
              "      <td>0.116994</td>\n",
              "      <td>0.133793</td>\n",
              "      <td>0.144788</td>\n",
              "      <td>0.112796</td>\n",
              "      <td>...</td>\n",
              "      <td>0.168704</td>\n",
              "      <td>0.073950</td>\n",
              "      <td>0.074565</td>\n",
              "      <td>0.223568</td>\n",
              "      <td>0.116197</td>\n",
              "      <td>0.114916</td>\n",
              "      <td>0.166019</td>\n",
              "      <td>0.144799</td>\n",
              "      <td>0.133802</td>\n",
              "      <td>0.168319</td>\n",
              "    </tr>\n",
              "    <tr>\n",
              "      <th>Btl_Cnt</th>\n",
              "      <td>NaN</td>\n",
              "      <td>NaN</td>\n",
              "      <td>0.167673</td>\n",
              "      <td>0.074290</td>\n",
              "      <td>0.219979</td>\n",
              "      <td>0.142851</td>\n",
              "      <td>0.116031</td>\n",
              "      <td>0.132090</td>\n",
              "      <td>0.142865</td>\n",
              "      <td>0.113631</td>\n",
              "      <td>...</td>\n",
              "      <td>0.167673</td>\n",
              "      <td>0.074300</td>\n",
              "      <td>0.074906</td>\n",
              "      <td>0.220039</td>\n",
              "      <td>0.115216</td>\n",
              "      <td>0.113963</td>\n",
              "      <td>0.165528</td>\n",
              "      <td>0.142873</td>\n",
              "      <td>0.132100</td>\n",
              "      <td>0.167282</td>\n",
              "    </tr>\n",
              "    <tr>\n",
              "      <th>Depthm</th>\n",
              "      <td>NaN</td>\n",
              "      <td>NaN</td>\n",
              "      <td>NaN</td>\n",
              "      <td>0.668624</td>\n",
              "      <td>0.566891</td>\n",
              "      <td>0.597261</td>\n",
              "      <td>0.668570</td>\n",
              "      <td>0.602950</td>\n",
              "      <td>0.597326</td>\n",
              "      <td>0.081350</td>\n",
              "      <td>...</td>\n",
              "      <td>1.000000</td>\n",
              "      <td>0.668625</td>\n",
              "      <td>0.671528</td>\n",
              "      <td>0.566896</td>\n",
              "      <td>0.668514</td>\n",
              "      <td>0.660517</td>\n",
              "      <td>0.922600</td>\n",
              "      <td>0.597261</td>\n",
              "      <td>0.602951</td>\n",
              "      <td>0.999994</td>\n",
              "    </tr>\n",
              "    <tr>\n",
              "      <th>T_degC</th>\n",
              "      <td>NaN</td>\n",
              "      <td>NaN</td>\n",
              "      <td>NaN</td>\n",
              "      <td>NaN</td>\n",
              "      <td>0.504604</td>\n",
              "      <td>0.795378</td>\n",
              "      <td>0.964096</td>\n",
              "      <td>0.850988</td>\n",
              "      <td>0.795915</td>\n",
              "      <td>0.062913</td>\n",
              "      <td>...</td>\n",
              "      <td>0.668624</td>\n",
              "      <td>1.000000</td>\n",
              "      <td>0.999992</td>\n",
              "      <td>0.504599</td>\n",
              "      <td>0.964139</td>\n",
              "      <td>0.964631</td>\n",
              "      <td>0.797220</td>\n",
              "      <td>0.795379</td>\n",
              "      <td>0.850988</td>\n",
              "      <td>0.667216</td>\n",
              "    </tr>\n",
              "    <tr>\n",
              "      <th>Salnty</th>\n",
              "      <td>NaN</td>\n",
              "      <td>NaN</td>\n",
              "      <td>NaN</td>\n",
              "      <td>NaN</td>\n",
              "      <td>NaN</td>\n",
              "      <td>0.824888</td>\n",
              "      <td>0.700970</td>\n",
              "      <td>0.790515</td>\n",
              "      <td>0.824840</td>\n",
              "      <td>0.069256</td>\n",
              "      <td>...</td>\n",
              "      <td>0.566891</td>\n",
              "      <td>0.504606</td>\n",
              "      <td>0.506068</td>\n",
              "      <td>1.000000</td>\n",
              "      <td>0.700828</td>\n",
              "      <td>0.696364</td>\n",
              "      <td>0.666701</td>\n",
              "      <td>0.824889</td>\n",
              "      <td>0.790516</td>\n",
              "      <td>0.565651</td>\n",
              "    </tr>\n",
              "    <tr>\n",
              "      <th>O2ml_L</th>\n",
              "      <td>NaN</td>\n",
              "      <td>NaN</td>\n",
              "      <td>NaN</td>\n",
              "      <td>NaN</td>\n",
              "      <td>NaN</td>\n",
              "      <td>NaN</td>\n",
              "      <td>0.889966</td>\n",
              "      <td>0.993211</td>\n",
              "      <td>0.999999</td>\n",
              "      <td>0.071459</td>\n",
              "      <td>...</td>\n",
              "      <td>0.597261</td>\n",
              "      <td>0.795379</td>\n",
              "      <td>0.795929</td>\n",
              "      <td>0.824882</td>\n",
              "      <td>0.889964</td>\n",
              "      <td>0.886779</td>\n",
              "      <td>0.767949</td>\n",
              "      <td>0.999998</td>\n",
              "      <td>0.993211</td>\n",
              "      <td>0.595450</td>\n",
              "    </tr>\n",
              "    <tr>\n",
              "      <th>STheta</th>\n",
              "      <td>NaN</td>\n",
              "      <td>NaN</td>\n",
              "      <td>NaN</td>\n",
              "      <td>NaN</td>\n",
              "      <td>NaN</td>\n",
              "      <td>NaN</td>\n",
              "      <td>NaN</td>\n",
              "      <td>0.929273</td>\n",
              "      <td>0.890441</td>\n",
              "      <td>0.067074</td>\n",
              "      <td>...</td>\n",
              "      <td>0.668570</td>\n",
              "      <td>0.964096</td>\n",
              "      <td>0.964319</td>\n",
              "      <td>0.700965</td>\n",
              "      <td>0.999995</td>\n",
              "      <td>0.999872</td>\n",
              "      <td>0.814417</td>\n",
              "      <td>0.889967</td>\n",
              "      <td>0.929274</td>\n",
              "      <td>0.667033</td>\n",
              "    </tr>\n",
              "    <tr>\n",
              "      <th>O2Sat</th>\n",
              "      <td>NaN</td>\n",
              "      <td>NaN</td>\n",
              "      <td>NaN</td>\n",
              "      <td>NaN</td>\n",
              "      <td>NaN</td>\n",
              "      <td>NaN</td>\n",
              "      <td>NaN</td>\n",
              "      <td>NaN</td>\n",
              "      <td>0.993338</td>\n",
              "      <td>0.069317</td>\n",
              "      <td>...</td>\n",
              "      <td>0.602950</td>\n",
              "      <td>0.850989</td>\n",
              "      <td>0.851359</td>\n",
              "      <td>0.790509</td>\n",
              "      <td>0.929278</td>\n",
              "      <td>0.927121</td>\n",
              "      <td>0.776090</td>\n",
              "      <td>0.993210</td>\n",
              "      <td>1.000000</td>\n",
              "      <td>0.601183</td>\n",
              "    </tr>\n",
              "    <tr>\n",
              "      <th>Oxy_µmol/Kg</th>\n",
              "      <td>NaN</td>\n",
              "      <td>NaN</td>\n",
              "      <td>NaN</td>\n",
              "      <td>NaN</td>\n",
              "      <td>NaN</td>\n",
              "      <td>NaN</td>\n",
              "      <td>NaN</td>\n",
              "      <td>NaN</td>\n",
              "      <td>NaN</td>\n",
              "      <td>0.071474</td>\n",
              "      <td>...</td>\n",
              "      <td>0.597326</td>\n",
              "      <td>0.795916</td>\n",
              "      <td>0.796464</td>\n",
              "      <td>0.824834</td>\n",
              "      <td>0.890439</td>\n",
              "      <td>0.887265</td>\n",
              "      <td>0.768046</td>\n",
              "      <td>0.999997</td>\n",
              "      <td>0.993338</td>\n",
              "      <td>0.595516</td>\n",
              "    </tr>\n",
              "    <tr>\n",
              "      <th>RecInd</th>\n",
              "      <td>NaN</td>\n",
              "      <td>NaN</td>\n",
              "      <td>NaN</td>\n",
              "      <td>NaN</td>\n",
              "      <td>NaN</td>\n",
              "      <td>NaN</td>\n",
              "      <td>NaN</td>\n",
              "      <td>NaN</td>\n",
              "      <td>NaN</td>\n",
              "      <td>NaN</td>\n",
              "      <td>...</td>\n",
              "      <td>0.081350</td>\n",
              "      <td>0.062913</td>\n",
              "      <td>0.063099</td>\n",
              "      <td>0.069268</td>\n",
              "      <td>0.067025</td>\n",
              "      <td>0.066271</td>\n",
              "      <td>0.086888</td>\n",
              "      <td>0.071458</td>\n",
              "      <td>0.069319</td>\n",
              "      <td>0.081211</td>\n",
              "    </tr>\n",
              "    <tr>\n",
              "      <th>S_prec</th>\n",
              "      <td>NaN</td>\n",
              "      <td>NaN</td>\n",
              "      <td>NaN</td>\n",
              "      <td>NaN</td>\n",
              "      <td>NaN</td>\n",
              "      <td>NaN</td>\n",
              "      <td>NaN</td>\n",
              "      <td>NaN</td>\n",
              "      <td>NaN</td>\n",
              "      <td>NaN</td>\n",
              "      <td>...</td>\n",
              "      <td>0.003996</td>\n",
              "      <td>0.047647</td>\n",
              "      <td>0.047443</td>\n",
              "      <td>0.080925</td>\n",
              "      <td>0.017276</td>\n",
              "      <td>0.017503</td>\n",
              "      <td>0.005009</td>\n",
              "      <td>0.027486</td>\n",
              "      <td>0.016698</td>\n",
              "      <td>0.003935</td>\n",
              "    </tr>\n",
              "    <tr>\n",
              "      <th>R_Depth</th>\n",
              "      <td>NaN</td>\n",
              "      <td>NaN</td>\n",
              "      <td>NaN</td>\n",
              "      <td>NaN</td>\n",
              "      <td>NaN</td>\n",
              "      <td>NaN</td>\n",
              "      <td>NaN</td>\n",
              "      <td>NaN</td>\n",
              "      <td>NaN</td>\n",
              "      <td>NaN</td>\n",
              "      <td>...</td>\n",
              "      <td>NaN</td>\n",
              "      <td>0.668625</td>\n",
              "      <td>0.671528</td>\n",
              "      <td>0.566896</td>\n",
              "      <td>0.668514</td>\n",
              "      <td>0.660517</td>\n",
              "      <td>0.922600</td>\n",
              "      <td>0.597261</td>\n",
              "      <td>0.602951</td>\n",
              "      <td>0.999994</td>\n",
              "    </tr>\n",
              "    <tr>\n",
              "      <th>R_TEMP</th>\n",
              "      <td>NaN</td>\n",
              "      <td>NaN</td>\n",
              "      <td>NaN</td>\n",
              "      <td>NaN</td>\n",
              "      <td>NaN</td>\n",
              "      <td>NaN</td>\n",
              "      <td>NaN</td>\n",
              "      <td>NaN</td>\n",
              "      <td>NaN</td>\n",
              "      <td>NaN</td>\n",
              "      <td>...</td>\n",
              "      <td>NaN</td>\n",
              "      <td>NaN</td>\n",
              "      <td>0.999992</td>\n",
              "      <td>0.504600</td>\n",
              "      <td>0.964139</td>\n",
              "      <td>0.964632</td>\n",
              "      <td>0.797221</td>\n",
              "      <td>0.795379</td>\n",
              "      <td>0.850989</td>\n",
              "      <td>0.667217</td>\n",
              "    </tr>\n",
              "    <tr>\n",
              "      <th>R_POTEMP</th>\n",
              "      <td>NaN</td>\n",
              "      <td>NaN</td>\n",
              "      <td>NaN</td>\n",
              "      <td>NaN</td>\n",
              "      <td>NaN</td>\n",
              "      <td>NaN</td>\n",
              "      <td>NaN</td>\n",
              "      <td>NaN</td>\n",
              "      <td>NaN</td>\n",
              "      <td>NaN</td>\n",
              "      <td>...</td>\n",
              "      <td>NaN</td>\n",
              "      <td>NaN</td>\n",
              "      <td>NaN</td>\n",
              "      <td>0.506063</td>\n",
              "      <td>0.964361</td>\n",
              "      <td>0.964806</td>\n",
              "      <td>0.799385</td>\n",
              "      <td>0.795929</td>\n",
              "      <td>0.851359</td>\n",
              "      <td>0.670125</td>\n",
              "    </tr>\n",
              "    <tr>\n",
              "      <th>R_SALINITY</th>\n",
              "      <td>NaN</td>\n",
              "      <td>NaN</td>\n",
              "      <td>NaN</td>\n",
              "      <td>NaN</td>\n",
              "      <td>NaN</td>\n",
              "      <td>NaN</td>\n",
              "      <td>NaN</td>\n",
              "      <td>NaN</td>\n",
              "      <td>NaN</td>\n",
              "      <td>NaN</td>\n",
              "      <td>...</td>\n",
              "      <td>NaN</td>\n",
              "      <td>NaN</td>\n",
              "      <td>NaN</td>\n",
              "      <td>NaN</td>\n",
              "      <td>0.700822</td>\n",
              "      <td>0.696359</td>\n",
              "      <td>0.666706</td>\n",
              "      <td>0.824883</td>\n",
              "      <td>0.790510</td>\n",
              "      <td>0.565656</td>\n",
              "    </tr>\n",
              "    <tr>\n",
              "      <th>R_SIGMA</th>\n",
              "      <td>NaN</td>\n",
              "      <td>NaN</td>\n",
              "      <td>NaN</td>\n",
              "      <td>NaN</td>\n",
              "      <td>NaN</td>\n",
              "      <td>NaN</td>\n",
              "      <td>NaN</td>\n",
              "      <td>NaN</td>\n",
              "      <td>NaN</td>\n",
              "      <td>NaN</td>\n",
              "      <td>...</td>\n",
              "      <td>NaN</td>\n",
              "      <td>NaN</td>\n",
              "      <td>NaN</td>\n",
              "      <td>NaN</td>\n",
              "      <td>NaN</td>\n",
              "      <td>0.999869</td>\n",
              "      <td>0.814364</td>\n",
              "      <td>0.889964</td>\n",
              "      <td>0.929279</td>\n",
              "      <td>0.666978</td>\n",
              "    </tr>\n",
              "    <tr>\n",
              "      <th>R_SVA</th>\n",
              "      <td>NaN</td>\n",
              "      <td>NaN</td>\n",
              "      <td>NaN</td>\n",
              "      <td>NaN</td>\n",
              "      <td>NaN</td>\n",
              "      <td>NaN</td>\n",
              "      <td>NaN</td>\n",
              "      <td>NaN</td>\n",
              "      <td>NaN</td>\n",
              "      <td>NaN</td>\n",
              "      <td>...</td>\n",
              "      <td>NaN</td>\n",
              "      <td>NaN</td>\n",
              "      <td>NaN</td>\n",
              "      <td>NaN</td>\n",
              "      <td>NaN</td>\n",
              "      <td>NaN</td>\n",
              "      <td>0.806301</td>\n",
              "      <td>0.886779</td>\n",
              "      <td>0.927121</td>\n",
              "      <td>0.658987</td>\n",
              "    </tr>\n",
              "    <tr>\n",
              "      <th>R_DYNHT</th>\n",
              "      <td>NaN</td>\n",
              "      <td>NaN</td>\n",
              "      <td>NaN</td>\n",
              "      <td>NaN</td>\n",
              "      <td>NaN</td>\n",
              "      <td>NaN</td>\n",
              "      <td>NaN</td>\n",
              "      <td>NaN</td>\n",
              "      <td>NaN</td>\n",
              "      <td>NaN</td>\n",
              "      <td>...</td>\n",
              "      <td>NaN</td>\n",
              "      <td>NaN</td>\n",
              "      <td>NaN</td>\n",
              "      <td>NaN</td>\n",
              "      <td>NaN</td>\n",
              "      <td>NaN</td>\n",
              "      <td>NaN</td>\n",
              "      <td>0.767948</td>\n",
              "      <td>0.776090</td>\n",
              "      <td>0.921499</td>\n",
              "    </tr>\n",
              "    <tr>\n",
              "      <th>R_O2</th>\n",
              "      <td>NaN</td>\n",
              "      <td>NaN</td>\n",
              "      <td>NaN</td>\n",
              "      <td>NaN</td>\n",
              "      <td>NaN</td>\n",
              "      <td>NaN</td>\n",
              "      <td>NaN</td>\n",
              "      <td>NaN</td>\n",
              "      <td>NaN</td>\n",
              "      <td>NaN</td>\n",
              "      <td>...</td>\n",
              "      <td>NaN</td>\n",
              "      <td>NaN</td>\n",
              "      <td>NaN</td>\n",
              "      <td>NaN</td>\n",
              "      <td>NaN</td>\n",
              "      <td>NaN</td>\n",
              "      <td>NaN</td>\n",
              "      <td>NaN</td>\n",
              "      <td>0.993210</td>\n",
              "      <td>0.595451</td>\n",
              "    </tr>\n",
              "    <tr>\n",
              "      <th>R_O2Sat</th>\n",
              "      <td>NaN</td>\n",
              "      <td>NaN</td>\n",
              "      <td>NaN</td>\n",
              "      <td>NaN</td>\n",
              "      <td>NaN</td>\n",
              "      <td>NaN</td>\n",
              "      <td>NaN</td>\n",
              "      <td>NaN</td>\n",
              "      <td>NaN</td>\n",
              "      <td>NaN</td>\n",
              "      <td>...</td>\n",
              "      <td>NaN</td>\n",
              "      <td>NaN</td>\n",
              "      <td>NaN</td>\n",
              "      <td>NaN</td>\n",
              "      <td>NaN</td>\n",
              "      <td>NaN</td>\n",
              "      <td>NaN</td>\n",
              "      <td>NaN</td>\n",
              "      <td>NaN</td>\n",
              "      <td>0.601184</td>\n",
              "    </tr>\n",
              "    <tr>\n",
              "      <th>R_PRES</th>\n",
              "      <td>NaN</td>\n",
              "      <td>NaN</td>\n",
              "      <td>NaN</td>\n",
              "      <td>NaN</td>\n",
              "      <td>NaN</td>\n",
              "      <td>NaN</td>\n",
              "      <td>NaN</td>\n",
              "      <td>NaN</td>\n",
              "      <td>NaN</td>\n",
              "      <td>NaN</td>\n",
              "      <td>...</td>\n",
              "      <td>NaN</td>\n",
              "      <td>NaN</td>\n",
              "      <td>NaN</td>\n",
              "      <td>NaN</td>\n",
              "      <td>NaN</td>\n",
              "      <td>NaN</td>\n",
              "      <td>NaN</td>\n",
              "      <td>NaN</td>\n",
              "      <td>NaN</td>\n",
              "      <td>NaN</td>\n",
              "    </tr>\n",
              "  </tbody>\n",
              "</table>\n",
              "<p>21 rows × 21 columns</p>\n",
              "</div>\n",
              "      <button class=\"colab-df-convert\" onclick=\"convertToInteractive('df-6f88d38a-1cd7-4208-84df-e61b10ed337e')\"\n",
              "              title=\"Convert this dataframe to an interactive table.\"\n",
              "              style=\"display:none;\">\n",
              "        \n",
              "  <svg xmlns=\"http://www.w3.org/2000/svg\" height=\"24px\"viewBox=\"0 0 24 24\"\n",
              "       width=\"24px\">\n",
              "    <path d=\"M0 0h24v24H0V0z\" fill=\"none\"/>\n",
              "    <path d=\"M18.56 5.44l.94 2.06.94-2.06 2.06-.94-2.06-.94-.94-2.06-.94 2.06-2.06.94zm-11 1L8.5 8.5l.94-2.06 2.06-.94-2.06-.94L8.5 2.5l-.94 2.06-2.06.94zm10 10l.94 2.06.94-2.06 2.06-.94-2.06-.94-.94-2.06-.94 2.06-2.06.94z\"/><path d=\"M17.41 7.96l-1.37-1.37c-.4-.4-.92-.59-1.43-.59-.52 0-1.04.2-1.43.59L10.3 9.45l-7.72 7.72c-.78.78-.78 2.05 0 2.83L4 21.41c.39.39.9.59 1.41.59.51 0 1.02-.2 1.41-.59l7.78-7.78 2.81-2.81c.8-.78.8-2.07 0-2.86zM5.41 20L4 18.59l7.72-7.72 1.47 1.35L5.41 20z\"/>\n",
              "  </svg>\n",
              "      </button>\n",
              "      \n",
              "  <style>\n",
              "    .colab-df-container {\n",
              "      display:flex;\n",
              "      flex-wrap:wrap;\n",
              "      gap: 12px;\n",
              "    }\n",
              "\n",
              "    .colab-df-convert {\n",
              "      background-color: #E8F0FE;\n",
              "      border: none;\n",
              "      border-radius: 50%;\n",
              "      cursor: pointer;\n",
              "      display: none;\n",
              "      fill: #1967D2;\n",
              "      height: 32px;\n",
              "      padding: 0 0 0 0;\n",
              "      width: 32px;\n",
              "    }\n",
              "\n",
              "    .colab-df-convert:hover {\n",
              "      background-color: #E2EBFA;\n",
              "      box-shadow: 0px 1px 2px rgba(60, 64, 67, 0.3), 0px 1px 3px 1px rgba(60, 64, 67, 0.15);\n",
              "      fill: #174EA6;\n",
              "    }\n",
              "\n",
              "    [theme=dark] .colab-df-convert {\n",
              "      background-color: #3B4455;\n",
              "      fill: #D2E3FC;\n",
              "    }\n",
              "\n",
              "    [theme=dark] .colab-df-convert:hover {\n",
              "      background-color: #434B5C;\n",
              "      box-shadow: 0px 1px 3px 1px rgba(0, 0, 0, 0.15);\n",
              "      filter: drop-shadow(0px 1px 2px rgba(0, 0, 0, 0.3));\n",
              "      fill: #FFFFFF;\n",
              "    }\n",
              "  </style>\n",
              "\n",
              "      <script>\n",
              "        const buttonEl =\n",
              "          document.querySelector('#df-6f88d38a-1cd7-4208-84df-e61b10ed337e button.colab-df-convert');\n",
              "        buttonEl.style.display =\n",
              "          google.colab.kernel.accessAllowed ? 'block' : 'none';\n",
              "\n",
              "        async function convertToInteractive(key) {\n",
              "          const element = document.querySelector('#df-6f88d38a-1cd7-4208-84df-e61b10ed337e');\n",
              "          const dataTable =\n",
              "            await google.colab.kernel.invokeFunction('convertToInteractive',\n",
              "                                                     [key], {});\n",
              "          if (!dataTable) return;\n",
              "\n",
              "          const docLinkHtml = 'Like what you see? Visit the ' +\n",
              "            '<a target=\"_blank\" href=https://colab.research.google.com/notebooks/data_table.ipynb>data table notebook</a>'\n",
              "            + ' to learn more about interactive tables.';\n",
              "          element.innerHTML = '';\n",
              "          dataTable['output_type'] = 'display_data';\n",
              "          await google.colab.output.renderOutput(dataTable, element);\n",
              "          const docLink = document.createElement('div');\n",
              "          docLink.innerHTML = docLinkHtml;\n",
              "          element.appendChild(docLink);\n",
              "        }\n",
              "      </script>\n",
              "    </div>\n",
              "  </div>\n",
              "  "
            ]
          },
          "metadata": {},
          "execution_count": 30
        }
      ]
    },
    {
      "cell_type": "code",
      "source": [
        "to_drop = [column for column in upper_tri.columns if any(upper_tri[column] > 0.95)]\n",
        "print()\n",
        "print(to_drop)"
      ],
      "metadata": {
        "colab": {
          "base_uri": "https://localhost:8080/"
        },
        "id": "Kp5qYRIuBDL3",
        "outputId": "5fea10b1-c285-427c-ca17-d515985c796f"
      },
      "execution_count": 31,
      "outputs": [
        {
          "output_type": "stream",
          "name": "stdout",
          "text": [
            "\n",
            "['Btl_Cnt', 'STheta', 'O2Sat', 'Oxy_µmol/Kg', 'R_Depth', 'R_TEMP', 'R_POTEMP', 'R_SALINITY', 'R_SIGMA', 'R_SVA', 'R_O2', 'R_O2Sat', 'R_PRES']\n"
          ]
        }
      ]
    },
    {
      "cell_type": "markdown",
      "source": [
        "Dropping highly correlated feautures to simplify the model"
      ],
      "metadata": {
        "id": "Nn7dCobkwMP5"
      }
    },
    {
      "cell_type": "code",
      "source": [
        "df.drop(columns=to_drop, inplace=True)"
      ],
      "metadata": {
        "id": "Xw80sPzLBSMA"
      },
      "execution_count": 32,
      "outputs": []
    },
    {
      "cell_type": "code",
      "source": [
        "df.shape"
      ],
      "metadata": {
        "colab": {
          "base_uri": "https://localhost:8080/"
        },
        "id": "F-L4s24qBtYR",
        "outputId": "a853ff75-344a-4422-cdd3-a7efb9588052"
      },
      "execution_count": 33,
      "outputs": [
        {
          "output_type": "execute_result",
          "data": {
            "text/plain": [
              "(853900, 10)"
            ]
          },
          "metadata": {},
          "execution_count": 33
        }
      ]
    },
    {
      "cell_type": "code",
      "source": [
        "df.head()"
      ],
      "metadata": {
        "colab": {
          "base_uri": "https://localhost:8080/",
          "height": 206
        },
        "id": "jzC-cXQABvPQ",
        "outputId": "2a9adfdb-2d8c-42d5-b075-d11990de1d86"
      },
      "execution_count": 34,
      "outputs": [
        {
          "output_type": "execute_result",
          "data": {
            "text/plain": [
              "   Cst_Cnt       Sta_ID                                Depth_ID  Depthm  \\\n",
              "0        1  054.0 056.0  19-4903CR-HY-060-0930-05400560-0000A-3       0   \n",
              "1        1  054.0 056.0  19-4903CR-HY-060-0930-05400560-0008A-3       8   \n",
              "2        1  054.0 056.0  19-4903CR-HY-060-0930-05400560-0010A-7      10   \n",
              "3        1  054.0 056.0  19-4903CR-HY-060-0930-05400560-0019A-3      19   \n",
              "4        1  054.0 056.0  19-4903CR-HY-060-0930-05400560-0020A-7      20   \n",
              "\n",
              "   T_degC  Salnty  O2ml_L  RecInd  S_prec  R_DYNHT  \n",
              "0   10.50  33.440     NaN       3     2.0     0.00  \n",
              "1   10.46  33.440     NaN       3     2.0     0.01  \n",
              "2   10.46  33.437     NaN       7     3.0     0.02  \n",
              "3   10.45  33.420     NaN       3     2.0     0.04  \n",
              "4   10.45  33.421     NaN       7     3.0     0.04  "
            ],
            "text/html": [
              "\n",
              "  <div id=\"df-b20fec72-51be-403a-97a6-2fb394ec5678\">\n",
              "    <div class=\"colab-df-container\">\n",
              "      <div>\n",
              "<style scoped>\n",
              "    .dataframe tbody tr th:only-of-type {\n",
              "        vertical-align: middle;\n",
              "    }\n",
              "\n",
              "    .dataframe tbody tr th {\n",
              "        vertical-align: top;\n",
              "    }\n",
              "\n",
              "    .dataframe thead th {\n",
              "        text-align: right;\n",
              "    }\n",
              "</style>\n",
              "<table border=\"1\" class=\"dataframe\">\n",
              "  <thead>\n",
              "    <tr style=\"text-align: right;\">\n",
              "      <th></th>\n",
              "      <th>Cst_Cnt</th>\n",
              "      <th>Sta_ID</th>\n",
              "      <th>Depth_ID</th>\n",
              "      <th>Depthm</th>\n",
              "      <th>T_degC</th>\n",
              "      <th>Salnty</th>\n",
              "      <th>O2ml_L</th>\n",
              "      <th>RecInd</th>\n",
              "      <th>S_prec</th>\n",
              "      <th>R_DYNHT</th>\n",
              "    </tr>\n",
              "  </thead>\n",
              "  <tbody>\n",
              "    <tr>\n",
              "      <th>0</th>\n",
              "      <td>1</td>\n",
              "      <td>054.0 056.0</td>\n",
              "      <td>19-4903CR-HY-060-0930-05400560-0000A-3</td>\n",
              "      <td>0</td>\n",
              "      <td>10.50</td>\n",
              "      <td>33.440</td>\n",
              "      <td>NaN</td>\n",
              "      <td>3</td>\n",
              "      <td>2.0</td>\n",
              "      <td>0.00</td>\n",
              "    </tr>\n",
              "    <tr>\n",
              "      <th>1</th>\n",
              "      <td>1</td>\n",
              "      <td>054.0 056.0</td>\n",
              "      <td>19-4903CR-HY-060-0930-05400560-0008A-3</td>\n",
              "      <td>8</td>\n",
              "      <td>10.46</td>\n",
              "      <td>33.440</td>\n",
              "      <td>NaN</td>\n",
              "      <td>3</td>\n",
              "      <td>2.0</td>\n",
              "      <td>0.01</td>\n",
              "    </tr>\n",
              "    <tr>\n",
              "      <th>2</th>\n",
              "      <td>1</td>\n",
              "      <td>054.0 056.0</td>\n",
              "      <td>19-4903CR-HY-060-0930-05400560-0010A-7</td>\n",
              "      <td>10</td>\n",
              "      <td>10.46</td>\n",
              "      <td>33.437</td>\n",
              "      <td>NaN</td>\n",
              "      <td>7</td>\n",
              "      <td>3.0</td>\n",
              "      <td>0.02</td>\n",
              "    </tr>\n",
              "    <tr>\n",
              "      <th>3</th>\n",
              "      <td>1</td>\n",
              "      <td>054.0 056.0</td>\n",
              "      <td>19-4903CR-HY-060-0930-05400560-0019A-3</td>\n",
              "      <td>19</td>\n",
              "      <td>10.45</td>\n",
              "      <td>33.420</td>\n",
              "      <td>NaN</td>\n",
              "      <td>3</td>\n",
              "      <td>2.0</td>\n",
              "      <td>0.04</td>\n",
              "    </tr>\n",
              "    <tr>\n",
              "      <th>4</th>\n",
              "      <td>1</td>\n",
              "      <td>054.0 056.0</td>\n",
              "      <td>19-4903CR-HY-060-0930-05400560-0020A-7</td>\n",
              "      <td>20</td>\n",
              "      <td>10.45</td>\n",
              "      <td>33.421</td>\n",
              "      <td>NaN</td>\n",
              "      <td>7</td>\n",
              "      <td>3.0</td>\n",
              "      <td>0.04</td>\n",
              "    </tr>\n",
              "  </tbody>\n",
              "</table>\n",
              "</div>\n",
              "      <button class=\"colab-df-convert\" onclick=\"convertToInteractive('df-b20fec72-51be-403a-97a6-2fb394ec5678')\"\n",
              "              title=\"Convert this dataframe to an interactive table.\"\n",
              "              style=\"display:none;\">\n",
              "        \n",
              "  <svg xmlns=\"http://www.w3.org/2000/svg\" height=\"24px\"viewBox=\"0 0 24 24\"\n",
              "       width=\"24px\">\n",
              "    <path d=\"M0 0h24v24H0V0z\" fill=\"none\"/>\n",
              "    <path d=\"M18.56 5.44l.94 2.06.94-2.06 2.06-.94-2.06-.94-.94-2.06-.94 2.06-2.06.94zm-11 1L8.5 8.5l.94-2.06 2.06-.94-2.06-.94L8.5 2.5l-.94 2.06-2.06.94zm10 10l.94 2.06.94-2.06 2.06-.94-2.06-.94-.94-2.06-.94 2.06-2.06.94z\"/><path d=\"M17.41 7.96l-1.37-1.37c-.4-.4-.92-.59-1.43-.59-.52 0-1.04.2-1.43.59L10.3 9.45l-7.72 7.72c-.78.78-.78 2.05 0 2.83L4 21.41c.39.39.9.59 1.41.59.51 0 1.02-.2 1.41-.59l7.78-7.78 2.81-2.81c.8-.78.8-2.07 0-2.86zM5.41 20L4 18.59l7.72-7.72 1.47 1.35L5.41 20z\"/>\n",
              "  </svg>\n",
              "      </button>\n",
              "      \n",
              "  <style>\n",
              "    .colab-df-container {\n",
              "      display:flex;\n",
              "      flex-wrap:wrap;\n",
              "      gap: 12px;\n",
              "    }\n",
              "\n",
              "    .colab-df-convert {\n",
              "      background-color: #E8F0FE;\n",
              "      border: none;\n",
              "      border-radius: 50%;\n",
              "      cursor: pointer;\n",
              "      display: none;\n",
              "      fill: #1967D2;\n",
              "      height: 32px;\n",
              "      padding: 0 0 0 0;\n",
              "      width: 32px;\n",
              "    }\n",
              "\n",
              "    .colab-df-convert:hover {\n",
              "      background-color: #E2EBFA;\n",
              "      box-shadow: 0px 1px 2px rgba(60, 64, 67, 0.3), 0px 1px 3px 1px rgba(60, 64, 67, 0.15);\n",
              "      fill: #174EA6;\n",
              "    }\n",
              "\n",
              "    [theme=dark] .colab-df-convert {\n",
              "      background-color: #3B4455;\n",
              "      fill: #D2E3FC;\n",
              "    }\n",
              "\n",
              "    [theme=dark] .colab-df-convert:hover {\n",
              "      background-color: #434B5C;\n",
              "      box-shadow: 0px 1px 3px 1px rgba(0, 0, 0, 0.15);\n",
              "      filter: drop-shadow(0px 1px 2px rgba(0, 0, 0, 0.3));\n",
              "      fill: #FFFFFF;\n",
              "    }\n",
              "  </style>\n",
              "\n",
              "      <script>\n",
              "        const buttonEl =\n",
              "          document.querySelector('#df-b20fec72-51be-403a-97a6-2fb394ec5678 button.colab-df-convert');\n",
              "        buttonEl.style.display =\n",
              "          google.colab.kernel.accessAllowed ? 'block' : 'none';\n",
              "\n",
              "        async function convertToInteractive(key) {\n",
              "          const element = document.querySelector('#df-b20fec72-51be-403a-97a6-2fb394ec5678');\n",
              "          const dataTable =\n",
              "            await google.colab.kernel.invokeFunction('convertToInteractive',\n",
              "                                                     [key], {});\n",
              "          if (!dataTable) return;\n",
              "\n",
              "          const docLinkHtml = 'Like what you see? Visit the ' +\n",
              "            '<a target=\"_blank\" href=https://colab.research.google.com/notebooks/data_table.ipynb>data table notebook</a>'\n",
              "            + ' to learn more about interactive tables.';\n",
              "          element.innerHTML = '';\n",
              "          dataTable['output_type'] = 'display_data';\n",
              "          await google.colab.output.renderOutput(dataTable, element);\n",
              "          const docLink = document.createElement('div');\n",
              "          docLink.innerHTML = docLinkHtml;\n",
              "          element.appendChild(docLink);\n",
              "        }\n",
              "      </script>\n",
              "    </div>\n",
              "  </div>\n",
              "  "
            ]
          },
          "metadata": {},
          "execution_count": 34
        }
      ]
    },
    {
      "cell_type": "markdown",
      "source": [
        "##Regression Models\n",
        "Training the dataset against different regression models to predict the temperature (T_degC) and calculating the accuracy of each models."
      ],
      "metadata": {
        "id": "1PaAynXkwT4Z"
      }
    },
    {
      "cell_type": "code",
      "source": [
        "from sklearn.model_selection import train_test_split"
      ],
      "metadata": {
        "id": "NZnzxqdq-rWl"
      },
      "execution_count": 35,
      "outputs": []
    },
    {
      "cell_type": "code",
      "source": [
        "X = df.drop(columns=['T_degC'])\n",
        "y = df['T_degC']\n",
        "X_train, X_test, y_train, y_test = train_test_split(X, y, test_size=0.33, random_state=42)"
      ],
      "metadata": {
        "id": "skEsfz2K8h13"
      },
      "execution_count": 36,
      "outputs": []
    },
    {
      "cell_type": "code",
      "source": [
        "X.shape"
      ],
      "metadata": {
        "colab": {
          "base_uri": "https://localhost:8080/"
        },
        "id": "ACM0vvuwB_4q",
        "outputId": "32d6bc17-25e5-4fc5-babb-3f63c8c35b31"
      },
      "execution_count": 37,
      "outputs": [
        {
          "output_type": "execute_result",
          "data": {
            "text/plain": [
              "(853900, 9)"
            ]
          },
          "metadata": {},
          "execution_count": 37
        }
      ]
    },
    {
      "cell_type": "code",
      "source": [
        "y.shape"
      ],
      "metadata": {
        "colab": {
          "base_uri": "https://localhost:8080/"
        },
        "id": "EveXEoQECBc5",
        "outputId": "d300eda3-aab6-4694-a5a6-7072073b3506"
      },
      "execution_count": 38,
      "outputs": [
        {
          "output_type": "execute_result",
          "data": {
            "text/plain": [
              "(853900,)"
            ]
          },
          "metadata": {},
          "execution_count": 38
        }
      ]
    },
    {
      "cell_type": "markdown",
      "source": [
        "Adding a transformer layer to select features and also to handle missing values.\n",
        "\n",
        "The missing values are handled handled after split and train to avoid data leak."
      ],
      "metadata": {
        "id": "q_VytQ2yw-ta"
      }
    },
    {
      "cell_type": "code",
      "source": [
        "class ExperimentalTransformer(BaseEstimator, TransformerMixin):\n",
        "  def __init__(self):\n",
        "    #print('init')\n",
        "    #return self\n",
        "    a = 0\n",
        "  def fit(self,X,y = None):\n",
        "    #print('fit')\n",
        "    return self\n",
        "  def transform(self, X, y=None):\n",
        "    X_ = X[['Cst_Cnt','Depthm','Salnty','O2ml_L','RecInd', 'S_prec', 'R_DYNHT']]\n",
        "    X_ = X_.apply(lambda x: x.fillna(x.mean()),axis=0)\n",
        "    return X_[['Cst_Cnt','Depthm','Salnty','O2ml_L','RecInd', 'S_prec', 'R_DYNHT']]"
      ],
      "metadata": {
        "id": "kMBoavUsFRTP"
      },
      "execution_count": 39,
      "outputs": []
    },
    {
      "cell_type": "code",
      "source": [
        "pipelines = {\n",
        "    'rf':Pipeline(steps=[\n",
        "                       ('experimental_trans', ExperimentalTransformer()), \n",
        "                       ('Scaler', StandardScaler()),   # this will trigger a call to __init__\n",
        "                       ('random_forest', RandomForestRegressor(random_state=1000))]),    \n",
        "    'gb':Pipeline(steps=[\n",
        "                       ('experimental_trans', ExperimentalTransformer()), \n",
        "                       ('Scaler', StandardScaler()),   # this will trigger a call to __init__\n",
        "                       ('GradientBoostingRegressor', GradientBoostingRegressor(random_state=1000))]),\n",
        "    'ridge':Pipeline(steps=[\n",
        "                       ('experimental_trans', ExperimentalTransformer()), \n",
        "                       ('Scaler', StandardScaler()),   # this will trigger a call to __init__\n",
        "                       ('ridge', Ridge(random_state=1000))]),\n",
        "    'lasso':Pipeline(steps=[\n",
        "                       ('experimental_trans', ExperimentalTransformer()), \n",
        "                       ('Scaler', StandardScaler()),   # this will trigger a call to __init__\n",
        "                       ('lasso', Lasso(random_state=1000))]),\n",
        "    'enet':Pipeline(steps=[\n",
        "                       ('experimental_trans', ExperimentalTransformer()), \n",
        "                       ('Scaler', StandardScaler()),   # this will trigger a call to __init__\n",
        "                       ('enet', ElasticNet(random_state=1000))]),\n",
        "    'XGBRegressor':Pipeline(steps= [('experimental_trans', ExperimentalTransformer()), \n",
        "                       ('Scaler', StandardScaler()),   # this will trigger a call to __init__\n",
        "                       ('XGBRegressor', XGBRegressor(random_state=1000))]),\n",
        "    #'SVR':Pipeline(steps= [('experimental_trans', ExperimentalTransformer()), \n",
        "    #                   ('Scaler', StandardScaler()),   # this will trigger a call to __init__\n",
        "    #                   ('SVR', SVR(kernel = 'rbf'))]),\n",
        "}"
      ],
      "metadata": {
        "id": "n7nCTb1EGcbk"
      },
      "execution_count": 40,
      "outputs": []
    },
    {
      "cell_type": "code",
      "source": [
        "X_train.head()"
      ],
      "metadata": {
        "colab": {
          "base_uri": "https://localhost:8080/",
          "height": 206
        },
        "id": "iw4tTzEBWqlD",
        "outputId": "d8dfd7c5-e8b8-4301-f979-3537b4265ae5"
      },
      "execution_count": 41,
      "outputs": [
        {
          "output_type": "execute_result",
          "data": {
            "text/plain": [
              "        Cst_Cnt       Sta_ID                                Depth_ID  Depthm  \\\n",
              "23474       763  092.0 058.0  19-4910CR-HY-288-1836-09200580-0030A-7      30   \n",
              "782839    31263  090.0 080.0  20-0610RR-MX-298-2345-09000800-0075A-7      75   \n",
              "192086     7432  126.7 045.0  19-5504HO-HY-099-2018-12670450-0500A-7     500   \n",
              "445708    17561  096.7 060.0  19-7201JD-CT-005-0945-09670600-0700A-5     700   \n",
              "766528    30661  080.0 070.0  20-0411RR-MX-321-0100-08000700-0000B-7       0   \n",
              "\n",
              "        Salnty  O2ml_L  RecInd  S_prec  R_DYNHT  \n",
              "23474   33.381    5.50       7     3.0     0.10  \n",
              "782839  33.252    5.49       7     3.0     0.27  \n",
              "192086  34.440    0.23       7     3.0     0.90  \n",
              "445708  34.420     NaN       5     2.0     1.12  \n",
              "766528  33.220    5.68       7     3.0     0.00  "
            ],
            "text/html": [
              "\n",
              "  <div id=\"df-fd3d4cd0-a4a8-4952-b966-d8b35e41e342\">\n",
              "    <div class=\"colab-df-container\">\n",
              "      <div>\n",
              "<style scoped>\n",
              "    .dataframe tbody tr th:only-of-type {\n",
              "        vertical-align: middle;\n",
              "    }\n",
              "\n",
              "    .dataframe tbody tr th {\n",
              "        vertical-align: top;\n",
              "    }\n",
              "\n",
              "    .dataframe thead th {\n",
              "        text-align: right;\n",
              "    }\n",
              "</style>\n",
              "<table border=\"1\" class=\"dataframe\">\n",
              "  <thead>\n",
              "    <tr style=\"text-align: right;\">\n",
              "      <th></th>\n",
              "      <th>Cst_Cnt</th>\n",
              "      <th>Sta_ID</th>\n",
              "      <th>Depth_ID</th>\n",
              "      <th>Depthm</th>\n",
              "      <th>Salnty</th>\n",
              "      <th>O2ml_L</th>\n",
              "      <th>RecInd</th>\n",
              "      <th>S_prec</th>\n",
              "      <th>R_DYNHT</th>\n",
              "    </tr>\n",
              "  </thead>\n",
              "  <tbody>\n",
              "    <tr>\n",
              "      <th>23474</th>\n",
              "      <td>763</td>\n",
              "      <td>092.0 058.0</td>\n",
              "      <td>19-4910CR-HY-288-1836-09200580-0030A-7</td>\n",
              "      <td>30</td>\n",
              "      <td>33.381</td>\n",
              "      <td>5.50</td>\n",
              "      <td>7</td>\n",
              "      <td>3.0</td>\n",
              "      <td>0.10</td>\n",
              "    </tr>\n",
              "    <tr>\n",
              "      <th>782839</th>\n",
              "      <td>31263</td>\n",
              "      <td>090.0 080.0</td>\n",
              "      <td>20-0610RR-MX-298-2345-09000800-0075A-7</td>\n",
              "      <td>75</td>\n",
              "      <td>33.252</td>\n",
              "      <td>5.49</td>\n",
              "      <td>7</td>\n",
              "      <td>3.0</td>\n",
              "      <td>0.27</td>\n",
              "    </tr>\n",
              "    <tr>\n",
              "      <th>192086</th>\n",
              "      <td>7432</td>\n",
              "      <td>126.7 045.0</td>\n",
              "      <td>19-5504HO-HY-099-2018-12670450-0500A-7</td>\n",
              "      <td>500</td>\n",
              "      <td>34.440</td>\n",
              "      <td>0.23</td>\n",
              "      <td>7</td>\n",
              "      <td>3.0</td>\n",
              "      <td>0.90</td>\n",
              "    </tr>\n",
              "    <tr>\n",
              "      <th>445708</th>\n",
              "      <td>17561</td>\n",
              "      <td>096.7 060.0</td>\n",
              "      <td>19-7201JD-CT-005-0945-09670600-0700A-5</td>\n",
              "      <td>700</td>\n",
              "      <td>34.420</td>\n",
              "      <td>NaN</td>\n",
              "      <td>5</td>\n",
              "      <td>2.0</td>\n",
              "      <td>1.12</td>\n",
              "    </tr>\n",
              "    <tr>\n",
              "      <th>766528</th>\n",
              "      <td>30661</td>\n",
              "      <td>080.0 070.0</td>\n",
              "      <td>20-0411RR-MX-321-0100-08000700-0000B-7</td>\n",
              "      <td>0</td>\n",
              "      <td>33.220</td>\n",
              "      <td>5.68</td>\n",
              "      <td>7</td>\n",
              "      <td>3.0</td>\n",
              "      <td>0.00</td>\n",
              "    </tr>\n",
              "  </tbody>\n",
              "</table>\n",
              "</div>\n",
              "      <button class=\"colab-df-convert\" onclick=\"convertToInteractive('df-fd3d4cd0-a4a8-4952-b966-d8b35e41e342')\"\n",
              "              title=\"Convert this dataframe to an interactive table.\"\n",
              "              style=\"display:none;\">\n",
              "        \n",
              "  <svg xmlns=\"http://www.w3.org/2000/svg\" height=\"24px\"viewBox=\"0 0 24 24\"\n",
              "       width=\"24px\">\n",
              "    <path d=\"M0 0h24v24H0V0z\" fill=\"none\"/>\n",
              "    <path d=\"M18.56 5.44l.94 2.06.94-2.06 2.06-.94-2.06-.94-.94-2.06-.94 2.06-2.06.94zm-11 1L8.5 8.5l.94-2.06 2.06-.94-2.06-.94L8.5 2.5l-.94 2.06-2.06.94zm10 10l.94 2.06.94-2.06 2.06-.94-2.06-.94-.94-2.06-.94 2.06-2.06.94z\"/><path d=\"M17.41 7.96l-1.37-1.37c-.4-.4-.92-.59-1.43-.59-.52 0-1.04.2-1.43.59L10.3 9.45l-7.72 7.72c-.78.78-.78 2.05 0 2.83L4 21.41c.39.39.9.59 1.41.59.51 0 1.02-.2 1.41-.59l7.78-7.78 2.81-2.81c.8-.78.8-2.07 0-2.86zM5.41 20L4 18.59l7.72-7.72 1.47 1.35L5.41 20z\"/>\n",
              "  </svg>\n",
              "      </button>\n",
              "      \n",
              "  <style>\n",
              "    .colab-df-container {\n",
              "      display:flex;\n",
              "      flex-wrap:wrap;\n",
              "      gap: 12px;\n",
              "    }\n",
              "\n",
              "    .colab-df-convert {\n",
              "      background-color: #E8F0FE;\n",
              "      border: none;\n",
              "      border-radius: 50%;\n",
              "      cursor: pointer;\n",
              "      display: none;\n",
              "      fill: #1967D2;\n",
              "      height: 32px;\n",
              "      padding: 0 0 0 0;\n",
              "      width: 32px;\n",
              "    }\n",
              "\n",
              "    .colab-df-convert:hover {\n",
              "      background-color: #E2EBFA;\n",
              "      box-shadow: 0px 1px 2px rgba(60, 64, 67, 0.3), 0px 1px 3px 1px rgba(60, 64, 67, 0.15);\n",
              "      fill: #174EA6;\n",
              "    }\n",
              "\n",
              "    [theme=dark] .colab-df-convert {\n",
              "      background-color: #3B4455;\n",
              "      fill: #D2E3FC;\n",
              "    }\n",
              "\n",
              "    [theme=dark] .colab-df-convert:hover {\n",
              "      background-color: #434B5C;\n",
              "      box-shadow: 0px 1px 3px 1px rgba(0, 0, 0, 0.15);\n",
              "      filter: drop-shadow(0px 1px 2px rgba(0, 0, 0, 0.3));\n",
              "      fill: #FFFFFF;\n",
              "    }\n",
              "  </style>\n",
              "\n",
              "      <script>\n",
              "        const buttonEl =\n",
              "          document.querySelector('#df-fd3d4cd0-a4a8-4952-b966-d8b35e41e342 button.colab-df-convert');\n",
              "        buttonEl.style.display =\n",
              "          google.colab.kernel.accessAllowed ? 'block' : 'none';\n",
              "\n",
              "        async function convertToInteractive(key) {\n",
              "          const element = document.querySelector('#df-fd3d4cd0-a4a8-4952-b966-d8b35e41e342');\n",
              "          const dataTable =\n",
              "            await google.colab.kernel.invokeFunction('convertToInteractive',\n",
              "                                                     [key], {});\n",
              "          if (!dataTable) return;\n",
              "\n",
              "          const docLinkHtml = 'Like what you see? Visit the ' +\n",
              "            '<a target=\"_blank\" href=https://colab.research.google.com/notebooks/data_table.ipynb>data table notebook</a>'\n",
              "            + ' to learn more about interactive tables.';\n",
              "          element.innerHTML = '';\n",
              "          dataTable['output_type'] = 'display_data';\n",
              "          await google.colab.output.renderOutput(dataTable, element);\n",
              "          const docLink = document.createElement('div');\n",
              "          docLink.innerHTML = docLinkHtml;\n",
              "          element.appendChild(docLink);\n",
              "        }\n",
              "      </script>\n",
              "    </div>\n",
              "  </div>\n",
              "  "
            ]
          },
          "metadata": {},
          "execution_count": 41
        }
      ]
    },
    {
      "cell_type": "code",
      "source": [
        "models = {}\n",
        "for key,pipeline in pipelines.items():\n",
        "  print(key)\n",
        "  model = pipeline\n",
        "  model.fit(X_train, y_train)\n",
        "  models[key] = model"
      ],
      "metadata": {
        "colab": {
          "base_uri": "https://localhost:8080/"
        },
        "id": "MspiSj6RUPd0",
        "outputId": "778876de-9f2c-42c2-8913-8184dffbb46d"
      },
      "execution_count": 42,
      "outputs": [
        {
          "output_type": "stream",
          "name": "stdout",
          "text": [
            "rf\n",
            "gb\n",
            "ridge\n",
            "lasso\n",
            "enet\n",
            "XGBRegressor\n",
            "[19:52:01] WARNING: /workspace/src/objective/regression_obj.cu:152: reg:linear is now deprecated in favor of reg:squarederror.\n"
          ]
        }
      ]
    },
    {
      "cell_type": "code",
      "source": [
        "for algo,model in models.items():\n",
        "    yhat = model.predict(X_test)\n",
        "    print('{} scores - R2:{} MAE:{}'.format(algo, r2_score(y_test, yhat), mean_absolute_error(y_test, yhat)))"
      ],
      "metadata": {
        "colab": {
          "base_uri": "https://localhost:8080/"
        },
        "id": "OQR4TpU3GzQJ",
        "outputId": "1a29d848-6ff1-47a3-dcc8-ed83db12599c"
      },
      "execution_count": 43,
      "outputs": [
        {
          "output_type": "stream",
          "name": "stdout",
          "text": [
            "rf scores - R2:0.9747077589258518 MAE:0.4103345481805255\n",
            "gb scores - R2:0.9132605442314367 MAE:0.8444772073466809\n",
            "ridge scores - R2:0.7095234194583286 MAE:1.764543989383563\n",
            "lasso scores - R2:0.6035046170913302 MAE:2.024533298775429\n",
            "enet scores - R2:0.6051267019609397 MAE:2.046058235846539\n",
            "XGBRegressor scores - R2:0.9128663044713781 MAE:0.8469265590573362\n"
          ]
        }
      ]
    },
    {
      "cell_type": "code",
      "source": [],
      "metadata": {
        "id": "LzWQtmukqGQz"
      },
      "execution_count": null,
      "outputs": []
    }
  ]
}